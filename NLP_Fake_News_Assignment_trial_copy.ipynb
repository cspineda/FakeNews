{
 "cells": [
  {
   "cell_type": "markdown",
   "metadata": {},
   "source": [
    "NLP Assignment 1\n",
    "Cris Pineda"
   ]
  },
  {
   "cell_type": "markdown",
   "metadata": {},
   "source": [
    "**Data Exploration**"
   ]
  },
  {
   "cell_type": "code",
   "execution_count": 3,
   "metadata": {},
   "outputs": [],
   "source": [
    "from __future__ import division\n",
    "\n",
    "import matplotlib.pyplot as plt\n",
    "import numpy as np\n",
    "import pandas as pd\n",
    "from IPython.display import display\n",
    "import itertools\n",
    "\n",
    "#from sklearn import model_selection, preprocessing, linear_model, naive_bayes, metrics, svm\n",
    "#from sklearn import decomposition, ensemble, metrics\n",
    "import sklearn_crfsuite\n",
    "import eli5\n",
    "\n",
    "import warnings\n",
    "warnings.filterwarnings(\"ignore\")\n",
    "\n",
    "import string"
   ]
  },
  {
   "cell_type": "markdown",
   "metadata": {},
   "source": [
    "Import the two data sets (train and test) and name them 'train' and 'test'"
   ]
  },
  {
   "cell_type": "code",
   "execution_count": 4,
   "metadata": {},
   "outputs": [],
   "source": [
    "train = pd.read_csv('fake_or_real_news_training.csv', index_col=0)\n",
    "test = pd.read_csv('fake_or_real_news_test.csv', index_col=0)"
   ]
  },
  {
   "cell_type": "markdown",
   "metadata": {},
   "source": [
    "Print the first 10 observations of the train set and their dimensions to take a look at the data"
   ]
  },
  {
   "cell_type": "code",
   "execution_count": 5,
   "metadata": {},
   "outputs": [
    {
     "name": "stdout",
     "output_type": "stream",
     "text": [
      "Train Shape: (3999, 5) \n",
      " Test Shape: (2321, 2)\n"
     ]
    },
    {
     "data": {
      "text/html": [
       "<div>\n",
       "<style scoped>\n",
       "    .dataframe tbody tr th:only-of-type {\n",
       "        vertical-align: middle;\n",
       "    }\n",
       "\n",
       "    .dataframe tbody tr th {\n",
       "        vertical-align: top;\n",
       "    }\n",
       "\n",
       "    .dataframe thead th {\n",
       "        text-align: right;\n",
       "    }\n",
       "</style>\n",
       "<table border=\"1\" class=\"dataframe\">\n",
       "  <thead>\n",
       "    <tr style=\"text-align: right;\">\n",
       "      <th></th>\n",
       "      <th>title</th>\n",
       "      <th>text</th>\n",
       "      <th>label</th>\n",
       "      <th>X1</th>\n",
       "      <th>X2</th>\n",
       "    </tr>\n",
       "    <tr>\n",
       "      <th>ID</th>\n",
       "      <th></th>\n",
       "      <th></th>\n",
       "      <th></th>\n",
       "      <th></th>\n",
       "      <th></th>\n",
       "    </tr>\n",
       "  </thead>\n",
       "  <tbody>\n",
       "    <tr>\n",
       "      <th>8476</th>\n",
       "      <td>You Can Smell Hillary’s Fear</td>\n",
       "      <td>Daniel Greenfield, a Shillman Journalism Fello...</td>\n",
       "      <td>FAKE</td>\n",
       "      <td>NaN</td>\n",
       "      <td>NaN</td>\n",
       "    </tr>\n",
       "    <tr>\n",
       "      <th>10294</th>\n",
       "      <td>Watch The Exact Moment Paul Ryan Committed Pol...</td>\n",
       "      <td>Google Pinterest Digg Linkedin Reddit Stumbleu...</td>\n",
       "      <td>FAKE</td>\n",
       "      <td>NaN</td>\n",
       "      <td>NaN</td>\n",
       "    </tr>\n",
       "    <tr>\n",
       "      <th>3608</th>\n",
       "      <td>Kerry to go to Paris in gesture of sympathy</td>\n",
       "      <td>U.S. Secretary of State John F. Kerry said Mon...</td>\n",
       "      <td>REAL</td>\n",
       "      <td>NaN</td>\n",
       "      <td>NaN</td>\n",
       "    </tr>\n",
       "    <tr>\n",
       "      <th>10142</th>\n",
       "      <td>Bernie supporters on Twitter erupt in anger ag...</td>\n",
       "      <td>— Kaydee King (@KaydeeKing) November 9, 2016 T...</td>\n",
       "      <td>FAKE</td>\n",
       "      <td>NaN</td>\n",
       "      <td>NaN</td>\n",
       "    </tr>\n",
       "    <tr>\n",
       "      <th>875</th>\n",
       "      <td>The Battle of New York: Why This Primary Matters</td>\n",
       "      <td>It's primary day in New York and front-runners...</td>\n",
       "      <td>REAL</td>\n",
       "      <td>NaN</td>\n",
       "      <td>NaN</td>\n",
       "    </tr>\n",
       "    <tr>\n",
       "      <th>6903</th>\n",
       "      <td>Tehran, USA</td>\n",
       "      <td>\\nI’m not an immigrant, but my grandparents ...</td>\n",
       "      <td>FAKE</td>\n",
       "      <td>NaN</td>\n",
       "      <td>NaN</td>\n",
       "    </tr>\n",
       "    <tr>\n",
       "      <th>7341</th>\n",
       "      <td>Girl Horrified At What She Watches Boyfriend D...</td>\n",
       "      <td>Share This Baylee Luciani (left), Screenshot o...</td>\n",
       "      <td>FAKE</td>\n",
       "      <td>NaN</td>\n",
       "      <td>NaN</td>\n",
       "    </tr>\n",
       "    <tr>\n",
       "      <th>95</th>\n",
       "      <td>‘Britain’s Schindler’ Dies at 106</td>\n",
       "      <td>A Czech stockbroker who saved more than 650 Je...</td>\n",
       "      <td>REAL</td>\n",
       "      <td>NaN</td>\n",
       "      <td>NaN</td>\n",
       "    </tr>\n",
       "    <tr>\n",
       "      <th>4869</th>\n",
       "      <td>Fact check: Trump and Clinton at the 'commande...</td>\n",
       "      <td>Hillary Clinton and Donald Trump made some ina...</td>\n",
       "      <td>REAL</td>\n",
       "      <td>NaN</td>\n",
       "      <td>NaN</td>\n",
       "    </tr>\n",
       "    <tr>\n",
       "      <th>2909</th>\n",
       "      <td>Iran reportedly makes new push for uranium con...</td>\n",
       "      <td>Iranian negotiators reportedly have made a las...</td>\n",
       "      <td>REAL</td>\n",
       "      <td>NaN</td>\n",
       "      <td>NaN</td>\n",
       "    </tr>\n",
       "  </tbody>\n",
       "</table>\n",
       "</div>"
      ],
      "text/plain": [
       "                                                   title  \\\n",
       "ID                                                         \n",
       "8476                        You Can Smell Hillary’s Fear   \n",
       "10294  Watch The Exact Moment Paul Ryan Committed Pol...   \n",
       "3608         Kerry to go to Paris in gesture of sympathy   \n",
       "10142  Bernie supporters on Twitter erupt in anger ag...   \n",
       "875     The Battle of New York: Why This Primary Matters   \n",
       "6903                                         Tehran, USA   \n",
       "7341   Girl Horrified At What She Watches Boyfriend D...   \n",
       "95                     ‘Britain’s Schindler’ Dies at 106   \n",
       "4869   Fact check: Trump and Clinton at the 'commande...   \n",
       "2909   Iran reportedly makes new push for uranium con...   \n",
       "\n",
       "                                                    text label   X1   X2  \n",
       "ID                                                                        \n",
       "8476   Daniel Greenfield, a Shillman Journalism Fello...  FAKE  NaN  NaN  \n",
       "10294  Google Pinterest Digg Linkedin Reddit Stumbleu...  FAKE  NaN  NaN  \n",
       "3608   U.S. Secretary of State John F. Kerry said Mon...  REAL  NaN  NaN  \n",
       "10142  — Kaydee King (@KaydeeKing) November 9, 2016 T...  FAKE  NaN  NaN  \n",
       "875    It's primary day in New York and front-runners...  REAL  NaN  NaN  \n",
       "6903     \\nI’m not an immigrant, but my grandparents ...  FAKE  NaN  NaN  \n",
       "7341   Share This Baylee Luciani (left), Screenshot o...  FAKE  NaN  NaN  \n",
       "95     A Czech stockbroker who saved more than 650 Je...  REAL  NaN  NaN  \n",
       "4869   Hillary Clinton and Donald Trump made some ina...  REAL  NaN  NaN  \n",
       "2909   Iranian negotiators reportedly have made a las...  REAL  NaN  NaN  "
      ]
     },
     "execution_count": 5,
     "metadata": {},
     "output_type": "execute_result"
    }
   ],
   "source": [
    "print(\"Train Shape:\", train.shape, \"\\n Test Shape:\", test.shape)\n",
    "train.head(10)"
   ]
  },
  {
   "cell_type": "markdown",
   "metadata": {},
   "source": [
    "Take a look at the 'text' variable: we can see it's the beginning of the article itself "
   ]
  },
  {
   "cell_type": "code",
   "execution_count": 6,
   "metadata": {},
   "outputs": [
    {
     "data": {
      "text/plain": [
       "ID\n",
       "8476     Daniel Greenfield, a Shillman Journalism Fello...\n",
       "10294    Google Pinterest Digg Linkedin Reddit Stumbleu...\n",
       "3608     U.S. Secretary of State John F. Kerry said Mon...\n",
       "10142    — Kaydee King (@KaydeeKing) November 9, 2016 T...\n",
       "875      It's primary day in New York and front-runners...\n",
       "6903       \\nI’m not an immigrant, but my grandparents ...\n",
       "7341     Share This Baylee Luciani (left), Screenshot o...\n",
       "95       A Czech stockbroker who saved more than 650 Je...\n",
       "4869     Hillary Clinton and Donald Trump made some ina...\n",
       "2909     Iranian negotiators reportedly have made a las...\n",
       "Name: text, dtype: object"
      ]
     },
     "execution_count": 6,
     "metadata": {},
     "output_type": "execute_result"
    }
   ],
   "source": [
    "train['text'][:10] "
   ]
  },
  {
   "cell_type": "markdown",
   "metadata": {},
   "source": [
    "Also, the data does not seem to be in ordered in any way so we can avoid shuffling the data to avoid any bias. There seems to be some text leakage into the X1 columns so we will fix that first."
   ]
  },
  {
   "cell_type": "code",
   "execution_count": 7,
   "metadata": {},
   "outputs": [
    {
     "name": "stdout",
     "output_type": "stream",
     "text": [
      "(33, 5)\n"
     ]
    },
    {
     "data": {
      "text/html": [
       "<div>\n",
       "<style scoped>\n",
       "    .dataframe tbody tr th:only-of-type {\n",
       "        vertical-align: middle;\n",
       "    }\n",
       "\n",
       "    .dataframe tbody tr th {\n",
       "        vertical-align: top;\n",
       "    }\n",
       "\n",
       "    .dataframe thead th {\n",
       "        text-align: right;\n",
       "    }\n",
       "</style>\n",
       "<table border=\"1\" class=\"dataframe\">\n",
       "  <thead>\n",
       "    <tr style=\"text-align: right;\">\n",
       "      <th></th>\n",
       "      <th>title</th>\n",
       "      <th>text</th>\n",
       "      <th>label</th>\n",
       "      <th>X1</th>\n",
       "      <th>X2</th>\n",
       "    </tr>\n",
       "    <tr>\n",
       "      <th>ID</th>\n",
       "      <th></th>\n",
       "      <th></th>\n",
       "      <th></th>\n",
       "      <th></th>\n",
       "      <th></th>\n",
       "    </tr>\n",
       "  </thead>\n",
       "  <tbody>\n",
       "    <tr>\n",
       "      <th>599</th>\n",
       "      <td>Election Day: No Legal Pot In Ohio</td>\n",
       "      <td>Democrats Lose In The South</td>\n",
       "      <td>Election Day: No Legal Pot In Ohio; Democrats ...</td>\n",
       "      <td>REAL</td>\n",
       "      <td>NaN</td>\n",
       "    </tr>\n",
       "    <tr>\n",
       "      <th>10194</th>\n",
       "      <td>Who rode it best? Jesse Jackson mounts up to f...</td>\n",
       "      <td>Leonardo DiCaprio to the rescue?</td>\n",
       "      <td>Who rode it best? Jesse Jackson mounts up to f...</td>\n",
       "      <td>FAKE</td>\n",
       "      <td>NaN</td>\n",
       "    </tr>\n",
       "    <tr>\n",
       "      <th>356</th>\n",
       "      <td>Black Hawk crashes off Florida</td>\n",
       "      <td>human remains found</td>\n",
       "      <td>(CNN) Thick fog forced authorities to suspend ...</td>\n",
       "      <td>REAL</td>\n",
       "      <td>NaN</td>\n",
       "    </tr>\n",
       "    <tr>\n",
       "      <th>2786</th>\n",
       "      <td>Afghanistan: 19 die in air attacks on hospital</td>\n",
       "      <td>U.S. investigating</td>\n",
       "      <td>(CNN) Aerial bombardments blew apart a Doctors...</td>\n",
       "      <td>REAL</td>\n",
       "      <td>NaN</td>\n",
       "    </tr>\n",
       "    <tr>\n",
       "      <th>3622</th>\n",
       "      <td>Al Qaeda rep says group directed Paris magazin...</td>\n",
       "      <td>US issues travel warning</td>\n",
       "      <td>A member of Al Qaeda's branch in Yemen said Fr...</td>\n",
       "      <td>REAL</td>\n",
       "      <td>NaN</td>\n",
       "    </tr>\n",
       "    <tr>\n",
       "      <th>7375</th>\n",
       "      <td>Shallow 5.4 magnitude earthquake rattles centr...</td>\n",
       "      <td>shakes buildings in Rome</td>\n",
       "      <td>00 UTC © USGS Map of the earthquake's epicent...</td>\n",
       "      <td>FAKE</td>\n",
       "      <td>NaN</td>\n",
       "    </tr>\n",
       "    <tr>\n",
       "      <th>9097</th>\n",
       "      <td>ICE Agent Commits Suicide in NYC</td>\n",
       "      <td>Leaves Note Revealing Gov’t Plans to Round-up...</td>\n",
       "      <td>Email Print After writing a lengthy suicide no...</td>\n",
       "      <td>FAKE</td>\n",
       "      <td>NaN</td>\n",
       "    </tr>\n",
       "    <tr>\n",
       "      <th>9203</th>\n",
       "      <td>Political Correctness for Yuengling Brewery</td>\n",
       "      <td>What About Our Opioid Epidemic?</td>\n",
       "      <td>We Are Change \\n\\nIn today’s political climate...</td>\n",
       "      <td>FAKE</td>\n",
       "      <td>NaN</td>\n",
       "    </tr>\n",
       "    <tr>\n",
       "      <th>1602</th>\n",
       "      <td>Poll gives Biden edge over Clinton against GOP...</td>\n",
       "      <td>VP meets with Trumka</td>\n",
       "      <td>A new national poll shows Vice President Biden...</td>\n",
       "      <td>REAL</td>\n",
       "      <td>NaN</td>\n",
       "    </tr>\n",
       "    <tr>\n",
       "      <th>4562</th>\n",
       "      <td>Russia begins airstrikes in Syria</td>\n",
       "      <td>U.S. warns of new concerns in conflict</td>\n",
       "      <td>Russian warplanes began airstrikes in Syria on...</td>\n",
       "      <td>REAL</td>\n",
       "      <td>NaN</td>\n",
       "    </tr>\n",
       "    <tr>\n",
       "      <th>4748</th>\n",
       "      <td>Trump &amp;amp</td>\n",
       "      <td>Clinton Were Very Convincing...on How Lousy t...</td>\n",
       "      <td>Let's pretend for a moment that the biggest he...</td>\n",
       "      <td>REAL</td>\n",
       "      <td>NaN</td>\n",
       "    </tr>\n",
       "    <tr>\n",
       "      <th>3508</th>\n",
       "      <td>Belgian police mount raids</td>\n",
       "      <td>prosecutors acknowledge missed opportunities</td>\n",
       "      <td>Belgian authorities missed a chance to press a...</td>\n",
       "      <td>REAL</td>\n",
       "      <td>NaN</td>\n",
       "    </tr>\n",
       "    <tr>\n",
       "      <th>7559</th>\n",
       "      <td>STATE OF GEORGIA FIRES PASTOR BECAUSE OF HIS F...</td>\n",
       "      <td>GOVERNMENT DIDN’T “APPROVE” BIBLICAL SERMONS</td>\n",
       "      <td>Home › SOCIETY | US NEWS › STATE OF GEORGIA FI...</td>\n",
       "      <td>FAKE</td>\n",
       "      <td>NaN</td>\n",
       "    </tr>\n",
       "    <tr>\n",
       "      <th>3634</th>\n",
       "      <td>The Latest On Paris Attack: Manhunt Continues</td>\n",
       "      <td>Brothers Were On No-Fly List</td>\n",
       "      <td>The Latest On Paris Attack: Manhunt Continues;...</td>\n",
       "      <td>REAL</td>\n",
       "      <td>NaN</td>\n",
       "    </tr>\n",
       "    <tr>\n",
       "      <th>8470</th>\n",
       "      <td>The Amish In America Commit Their Vote To Dona...</td>\n",
       "      <td>Mathematically Guaranteeing Him A Presidentia...</td>\n",
       "      <td>18 SHARE The Amish in America have committed t...</td>\n",
       "      <td>FAKE</td>\n",
       "      <td>NaN</td>\n",
       "    </tr>\n",
       "    <tr>\n",
       "      <th>6404</th>\n",
       "      <td>#BREAKING: SECOND Assassination Attempt On Tru...</td>\n",
       "      <td>Suspect Detained (LIVE BLOG)</td>\n",
       "      <td>We Are Change \\nDonald Trump on Saturday was q...</td>\n",
       "      <td>FAKE</td>\n",
       "      <td>NaN</td>\n",
       "    </tr>\n",
       "    <tr>\n",
       "      <th>10499</th>\n",
       "      <td>30th Infantry Division: “Work Horse of the Wes...</td>\n",
       "      <td>The Big Picture TV-211</td>\n",
       "      <td>Published on Oct 27, 2016 by Jeff Quitney The ...</td>\n",
       "      <td>FAKE</td>\n",
       "      <td>NaN</td>\n",
       "    </tr>\n",
       "    <tr>\n",
       "      <th>9</th>\n",
       "      <td>Planned Parenthood’s lobbying effort</td>\n",
       "      <td>pay raises for federal workers</td>\n",
       "      <td>and the future Fed rates</td>\n",
       "      <td>PLANNED PARENTHOOD’S LOBBYING GETS AGGRESSIVE....</td>\n",
       "      <td>REAL</td>\n",
       "    </tr>\n",
       "    <tr>\n",
       "      <th>10492</th>\n",
       "      <td>TOP BRITISH GENERAL WARNS OF NUCLEAR WAR WITH ...</td>\n",
       "      <td>“THE END OF LIFE AS WE KNOW IT”</td>\n",
       "      <td>Paul Joseph Watson Senior British army officer...</td>\n",
       "      <td>FAKE</td>\n",
       "      <td>NaN</td>\n",
       "    </tr>\n",
       "    <tr>\n",
       "      <th>10138</th>\n",
       "      <td>Inside The Mind Of An FBI Informant</td>\n",
       "      <td>Terri Linnell Admits Role As Gov’t Snitch</td>\n",
       "      <td>Inside The Mind Of An FBI Informant; Terri Lin...</td>\n",
       "      <td>FAKE</td>\n",
       "      <td>NaN</td>\n",
       "    </tr>\n",
       "    <tr>\n",
       "      <th>4953</th>\n",
       "      <td>Gary Johnson Avoids Typical Third-Party Fade</td>\n",
       "      <td>Best Polling Since Perot in ‘92</td>\n",
       "      <td>A couple of weeks ago in this space I pushed b...</td>\n",
       "      <td>REAL</td>\n",
       "      <td>NaN</td>\n",
       "    </tr>\n",
       "    <tr>\n",
       "      <th>496</th>\n",
       "      <td>Nearly 300K New Jobs In February</td>\n",
       "      <td>Unemployment Dips To 5.5 Percent</td>\n",
       "      <td>Nearly 300K New Jobs In February; Unemployment...</td>\n",
       "      <td>REAL</td>\n",
       "      <td>NaN</td>\n",
       "    </tr>\n",
       "    <tr>\n",
       "      <th>5741</th>\n",
       "      <td>Why Trump Won</td>\n",
       "      <td>Why Clinton Lost</td>\n",
       "      <td>WashingtonsBlog \\nBy Robert Parry, the inves...</td>\n",
       "      <td>FAKE</td>\n",
       "      <td>NaN</td>\n",
       "    </tr>\n",
       "    <tr>\n",
       "      <th>4131</th>\n",
       "      <td>Jesse Matthew charged in Hannah Graham's murder</td>\n",
       "      <td>DA will not pursue death penalty</td>\n",
       "      <td>Jesse Matthew Jr., a former hospital worker, w...</td>\n",
       "      <td>REAL</td>\n",
       "      <td>NaN</td>\n",
       "    </tr>\n",
       "    <tr>\n",
       "      <th>8748</th>\n",
       "      <td>WATCH: Mass Shooting Occurs During #TrumpRiot</td>\n",
       "      <td>Media Ignores (Video)</td>\n",
       "      <td>WATCH: Mass Shooting Occurs During #TrumpRio...</td>\n",
       "      <td>FAKE</td>\n",
       "      <td>NaN</td>\n",
       "    </tr>\n",
       "    <tr>\n",
       "      <th>6717</th>\n",
       "      <td>Jim Rogers: It’s Time To Prepare</td>\n",
       "      <td>Economic And Financial Collapse Imminent (VIDEO)</td>\n",
       "      <td>By: The Voice of Reason | Regardless of how mu...</td>\n",
       "      <td>FAKE</td>\n",
       "      <td>NaN</td>\n",
       "    </tr>\n",
       "    <tr>\n",
       "      <th>2943</th>\n",
       "      <td>Islamic State admits defeat in Kobani</td>\n",
       "      <td>blames airstrikes</td>\n",
       "      <td>Islamic State militants have acknowledged for ...</td>\n",
       "      <td>REAL</td>\n",
       "      <td>NaN</td>\n",
       "    </tr>\n",
       "    <tr>\n",
       "      <th>5248</th>\n",
       "      <td>Clinton Cries Racism Tagging Trump with KKK</td>\n",
       "      <td>Trump Says 'She Lies'</td>\n",
       "      <td>With only about 70 days left until the electio...</td>\n",
       "      <td>REAL</td>\n",
       "      <td>NaN</td>\n",
       "    </tr>\n",
       "    <tr>\n",
       "      <th>3624</th>\n",
       "      <td>Suspects In Paris Magazine Attack Killed</td>\n",
       "      <td>Market Gunman And 4 Hostages Also Dead</td>\n",
       "      <td>Suspects In Paris Magazine Attack Killed; Mark...</td>\n",
       "      <td>REAL</td>\n",
       "      <td>NaN</td>\n",
       "    </tr>\n",
       "    <tr>\n",
       "      <th>6268</th>\n",
       "      <td>Chart Of The Day: Since 2009—–Recovery For The 5%</td>\n",
       "      <td>Stagnation for the 95%</td>\n",
       "      <td>Chart Of The Day: Since 2009 Recovery For The 5%</td>\n",
       "      <td>Stagnation for the 95%</td>\n",
       "      <td>FAKE</td>\n",
       "    </tr>\n",
       "    <tr>\n",
       "      <th>2738</th>\n",
       "      <td>Ted Cruz launches bid</td>\n",
       "      <td>Some pundits paint him as scary extremist</td>\n",
       "      <td>Before he got to repealing ObamaCare, before h...</td>\n",
       "      <td>REAL</td>\n",
       "      <td>NaN</td>\n",
       "    </tr>\n",
       "    <tr>\n",
       "      <th>4025</th>\n",
       "      <td>State Dept. IDs 2 Americans killed in Nepal quake</td>\n",
       "      <td>2 others reportedly dead</td>\n",
       "      <td>The State Department identified two Americans ...</td>\n",
       "      <td>REAL</td>\n",
       "      <td>NaN</td>\n",
       "    </tr>\n",
       "    <tr>\n",
       "      <th>9954</th>\n",
       "      <td>Incredible smoke haze seen outside NDTV office...</td>\n",
       "      <td>bursting of firecrackers suspected</td>\n",
       "      <td>Incredible smoke haze seen outside NDTV office...</td>\n",
       "      <td>FAKE</td>\n",
       "      <td>NaN</td>\n",
       "    </tr>\n",
       "  </tbody>\n",
       "</table>\n",
       "</div>"
      ],
      "text/plain": [
       "                                                   title  \\\n",
       "ID                                                         \n",
       "599                   Election Day: No Legal Pot In Ohio   \n",
       "10194  Who rode it best? Jesse Jackson mounts up to f...   \n",
       "356                       Black Hawk crashes off Florida   \n",
       "2786      Afghanistan: 19 die in air attacks on hospital   \n",
       "3622   Al Qaeda rep says group directed Paris magazin...   \n",
       "7375   Shallow 5.4 magnitude earthquake rattles centr...   \n",
       "9097                    ICE Agent Commits Suicide in NYC   \n",
       "9203         Political Correctness for Yuengling Brewery   \n",
       "1602   Poll gives Biden edge over Clinton against GOP...   \n",
       "4562                   Russia begins airstrikes in Syria   \n",
       "4748                                          Trump &amp   \n",
       "3508                          Belgian police mount raids   \n",
       "7559   STATE OF GEORGIA FIRES PASTOR BECAUSE OF HIS F...   \n",
       "3634       The Latest On Paris Attack: Manhunt Continues   \n",
       "8470   The Amish In America Commit Their Vote To Dona...   \n",
       "6404   #BREAKING: SECOND Assassination Attempt On Tru...   \n",
       "10499  30th Infantry Division: “Work Horse of the Wes...   \n",
       "9                   Planned Parenthood’s lobbying effort   \n",
       "10492  TOP BRITISH GENERAL WARNS OF NUCLEAR WAR WITH ...   \n",
       "10138                Inside The Mind Of An FBI Informant   \n",
       "4953        Gary Johnson Avoids Typical Third-Party Fade   \n",
       "496                     Nearly 300K New Jobs In February   \n",
       "5741                                       Why Trump Won   \n",
       "4131     Jesse Matthew charged in Hannah Graham's murder   \n",
       "8748       WATCH: Mass Shooting Occurs During #TrumpRiot   \n",
       "6717                    Jim Rogers: It’s Time To Prepare   \n",
       "2943               Islamic State admits defeat in Kobani   \n",
       "5248         Clinton Cries Racism Tagging Trump with KKK   \n",
       "3624            Suspects In Paris Magazine Attack Killed   \n",
       "6268   Chart Of The Day: Since 2009—–Recovery For The 5%   \n",
       "2738                               Ted Cruz launches bid   \n",
       "4025   State Dept. IDs 2 Americans killed in Nepal quake   \n",
       "9954   Incredible smoke haze seen outside NDTV office...   \n",
       "\n",
       "                                                    text  \\\n",
       "ID                                                         \n",
       "599                          Democrats Lose In The South   \n",
       "10194                   Leonardo DiCaprio to the rescue?   \n",
       "356                                  human remains found   \n",
       "2786                                  U.S. investigating   \n",
       "3622                            US issues travel warning   \n",
       "7375                            shakes buildings in Rome   \n",
       "9097    Leaves Note Revealing Gov’t Plans to Round-up...   \n",
       "9203                     What About Our Opioid Epidemic?   \n",
       "1602                                VP meets with Trumka   \n",
       "4562              U.S. warns of new concerns in conflict   \n",
       "4748    Clinton Were Very Convincing...on How Lousy t...   \n",
       "3508        prosecutors acknowledge missed opportunities   \n",
       "7559        GOVERNMENT DIDN’T “APPROVE” BIBLICAL SERMONS   \n",
       "3634                        Brothers Were On No-Fly List   \n",
       "8470    Mathematically Guaranteeing Him A Presidentia...   \n",
       "6404                        Suspect Detained (LIVE BLOG)   \n",
       "10499                             The Big Picture TV-211   \n",
       "9                         pay raises for federal workers   \n",
       "10492                    “THE END OF LIFE AS WE KNOW IT”   \n",
       "10138          Terri Linnell Admits Role As Gov’t Snitch   \n",
       "4953                     Best Polling Since Perot in ‘92   \n",
       "496                     Unemployment Dips To 5.5 Percent   \n",
       "5741                                    Why Clinton Lost   \n",
       "4131                    DA will not pursue death penalty   \n",
       "8748                               Media Ignores (Video)   \n",
       "6717    Economic And Financial Collapse Imminent (VIDEO)   \n",
       "2943                                   blames airstrikes   \n",
       "5248                               Trump Says 'She Lies'   \n",
       "3624              Market Gunman And 4 Hostages Also Dead   \n",
       "6268                              Stagnation for the 95%   \n",
       "2738           Some pundits paint him as scary extremist   \n",
       "4025                            2 others reportedly dead   \n",
       "9954                  bursting of firecrackers suspected   \n",
       "\n",
       "                                                   label  \\\n",
       "ID                                                         \n",
       "599    Election Day: No Legal Pot In Ohio; Democrats ...   \n",
       "10194  Who rode it best? Jesse Jackson mounts up to f...   \n",
       "356    (CNN) Thick fog forced authorities to suspend ...   \n",
       "2786   (CNN) Aerial bombardments blew apart a Doctors...   \n",
       "3622   A member of Al Qaeda's branch in Yemen said Fr...   \n",
       "7375    00 UTC © USGS Map of the earthquake's epicent...   \n",
       "9097   Email Print After writing a lengthy suicide no...   \n",
       "9203   We Are Change \\n\\nIn today’s political climate...   \n",
       "1602   A new national poll shows Vice President Biden...   \n",
       "4562   Russian warplanes began airstrikes in Syria on...   \n",
       "4748   Let's pretend for a moment that the biggest he...   \n",
       "3508   Belgian authorities missed a chance to press a...   \n",
       "7559   Home › SOCIETY | US NEWS › STATE OF GEORGIA FI...   \n",
       "3634   The Latest On Paris Attack: Manhunt Continues;...   \n",
       "8470   18 SHARE The Amish in America have committed t...   \n",
       "6404   We Are Change \\nDonald Trump on Saturday was q...   \n",
       "10499  Published on Oct 27, 2016 by Jeff Quitney The ...   \n",
       "9                               and the future Fed rates   \n",
       "10492  Paul Joseph Watson Senior British army officer...   \n",
       "10138  Inside The Mind Of An FBI Informant; Terri Lin...   \n",
       "4953   A couple of weeks ago in this space I pushed b...   \n",
       "496    Nearly 300K New Jobs In February; Unemployment...   \n",
       "5741     WashingtonsBlog \\nBy Robert Parry, the inves...   \n",
       "4131   Jesse Matthew Jr., a former hospital worker, w...   \n",
       "8748     WATCH: Mass Shooting Occurs During #TrumpRio...   \n",
       "6717   By: The Voice of Reason | Regardless of how mu...   \n",
       "2943   Islamic State militants have acknowledged for ...   \n",
       "5248   With only about 70 days left until the electio...   \n",
       "3624   Suspects In Paris Magazine Attack Killed; Mark...   \n",
       "6268    Chart Of The Day: Since 2009 Recovery For The 5%   \n",
       "2738   Before he got to repealing ObamaCare, before h...   \n",
       "4025   The State Department identified two Americans ...   \n",
       "9954   Incredible smoke haze seen outside NDTV office...   \n",
       "\n",
       "                                                      X1    X2  \n",
       "ID                                                              \n",
       "599                                                 REAL   NaN  \n",
       "10194                                               FAKE   NaN  \n",
       "356                                                 REAL   NaN  \n",
       "2786                                                REAL   NaN  \n",
       "3622                                                REAL   NaN  \n",
       "7375                                                FAKE   NaN  \n",
       "9097                                                FAKE   NaN  \n",
       "9203                                                FAKE   NaN  \n",
       "1602                                                REAL   NaN  \n",
       "4562                                                REAL   NaN  \n",
       "4748                                                REAL   NaN  \n",
       "3508                                                REAL   NaN  \n",
       "7559                                                FAKE   NaN  \n",
       "3634                                                REAL   NaN  \n",
       "8470                                                FAKE   NaN  \n",
       "6404                                                FAKE   NaN  \n",
       "10499                                               FAKE   NaN  \n",
       "9      PLANNED PARENTHOOD’S LOBBYING GETS AGGRESSIVE....  REAL  \n",
       "10492                                               FAKE   NaN  \n",
       "10138                                               FAKE   NaN  \n",
       "4953                                                REAL   NaN  \n",
       "496                                                 REAL   NaN  \n",
       "5741                                                FAKE   NaN  \n",
       "4131                                                REAL   NaN  \n",
       "8748                                                FAKE   NaN  \n",
       "6717                                                FAKE   NaN  \n",
       "2943                                                REAL   NaN  \n",
       "5248                                                REAL   NaN  \n",
       "3624                                                REAL   NaN  \n",
       "6268                            Stagnation for the 95%    FAKE  \n",
       "2738                                                REAL   NaN  \n",
       "4025                                                REAL   NaN  \n",
       "9954                                                FAKE   NaN  "
      ]
     },
     "execution_count": 7,
     "metadata": {},
     "output_type": "execute_result"
    }
   ],
   "source": [
    "bad_data = train.loc[train['X1'].notnull()]\n",
    "print(bad_data.shape)\n",
    "bad_data.head(33)"
   ]
  },
  {
   "cell_type": "code",
   "execution_count": 8,
   "metadata": {},
   "outputs": [
    {
     "data": {
      "text/html": [
       "<div>\n",
       "<style scoped>\n",
       "    .dataframe tbody tr th:only-of-type {\n",
       "        vertical-align: middle;\n",
       "    }\n",
       "\n",
       "    .dataframe tbody tr th {\n",
       "        vertical-align: top;\n",
       "    }\n",
       "\n",
       "    .dataframe thead th {\n",
       "        text-align: right;\n",
       "    }\n",
       "</style>\n",
       "<table border=\"1\" class=\"dataframe\">\n",
       "  <thead>\n",
       "    <tr style=\"text-align: right;\">\n",
       "      <th></th>\n",
       "      <th>title</th>\n",
       "      <th>text</th>\n",
       "      <th>label</th>\n",
       "    </tr>\n",
       "    <tr>\n",
       "      <th>ID</th>\n",
       "      <th></th>\n",
       "      <th></th>\n",
       "      <th></th>\n",
       "    </tr>\n",
       "  </thead>\n",
       "  <tbody>\n",
       "    <tr>\n",
       "      <th>599</th>\n",
       "      <td>Election Day: No Legal Pot In Ohio</td>\n",
       "      <td>Election Day: No Legal Pot In Ohio; Democrats ...</td>\n",
       "      <td>REAL</td>\n",
       "    </tr>\n",
       "    <tr>\n",
       "      <th>10194</th>\n",
       "      <td>Who rode it best? Jesse Jackson mounts up to f...</td>\n",
       "      <td>Who rode it best? Jesse Jackson mounts up to f...</td>\n",
       "      <td>FAKE</td>\n",
       "    </tr>\n",
       "    <tr>\n",
       "      <th>356</th>\n",
       "      <td>Black Hawk crashes off Florida</td>\n",
       "      <td>(CNN) Thick fog forced authorities to suspend ...</td>\n",
       "      <td>REAL</td>\n",
       "    </tr>\n",
       "    <tr>\n",
       "      <th>2786</th>\n",
       "      <td>Afghanistan: 19 die in air attacks on hospital</td>\n",
       "      <td>(CNN) Aerial bombardments blew apart a Doctors...</td>\n",
       "      <td>REAL</td>\n",
       "    </tr>\n",
       "    <tr>\n",
       "      <th>3622</th>\n",
       "      <td>Al Qaeda rep says group directed Paris magazin...</td>\n",
       "      <td>A member of Al Qaeda's branch in Yemen said Fr...</td>\n",
       "      <td>REAL</td>\n",
       "    </tr>\n",
       "    <tr>\n",
       "      <th>7375</th>\n",
       "      <td>Shallow 5.4 magnitude earthquake rattles centr...</td>\n",
       "      <td>00 UTC © USGS Map of the earthquake's epicent...</td>\n",
       "      <td>FAKE</td>\n",
       "    </tr>\n",
       "    <tr>\n",
       "      <th>9097</th>\n",
       "      <td>ICE Agent Commits Suicide in NYC</td>\n",
       "      <td>Email Print After writing a lengthy suicide no...</td>\n",
       "      <td>FAKE</td>\n",
       "    </tr>\n",
       "    <tr>\n",
       "      <th>9203</th>\n",
       "      <td>Political Correctness for Yuengling Brewery</td>\n",
       "      <td>We Are Change \\n\\nIn today’s political climate...</td>\n",
       "      <td>FAKE</td>\n",
       "    </tr>\n",
       "    <tr>\n",
       "      <th>1602</th>\n",
       "      <td>Poll gives Biden edge over Clinton against GOP...</td>\n",
       "      <td>A new national poll shows Vice President Biden...</td>\n",
       "      <td>REAL</td>\n",
       "    </tr>\n",
       "    <tr>\n",
       "      <th>4562</th>\n",
       "      <td>Russia begins airstrikes in Syria</td>\n",
       "      <td>Russian warplanes began airstrikes in Syria on...</td>\n",
       "      <td>REAL</td>\n",
       "    </tr>\n",
       "    <tr>\n",
       "      <th>4748</th>\n",
       "      <td>Trump &amp;amp</td>\n",
       "      <td>Let's pretend for a moment that the biggest he...</td>\n",
       "      <td>REAL</td>\n",
       "    </tr>\n",
       "    <tr>\n",
       "      <th>3508</th>\n",
       "      <td>Belgian police mount raids</td>\n",
       "      <td>Belgian authorities missed a chance to press a...</td>\n",
       "      <td>REAL</td>\n",
       "    </tr>\n",
       "    <tr>\n",
       "      <th>7559</th>\n",
       "      <td>STATE OF GEORGIA FIRES PASTOR BECAUSE OF HIS F...</td>\n",
       "      <td>Home › SOCIETY | US NEWS › STATE OF GEORGIA FI...</td>\n",
       "      <td>FAKE</td>\n",
       "    </tr>\n",
       "    <tr>\n",
       "      <th>3634</th>\n",
       "      <td>The Latest On Paris Attack: Manhunt Continues</td>\n",
       "      <td>The Latest On Paris Attack: Manhunt Continues;...</td>\n",
       "      <td>REAL</td>\n",
       "    </tr>\n",
       "    <tr>\n",
       "      <th>8470</th>\n",
       "      <td>The Amish In America Commit Their Vote To Dona...</td>\n",
       "      <td>18 SHARE The Amish in America have committed t...</td>\n",
       "      <td>FAKE</td>\n",
       "    </tr>\n",
       "    <tr>\n",
       "      <th>6404</th>\n",
       "      <td>#BREAKING: SECOND Assassination Attempt On Tru...</td>\n",
       "      <td>We Are Change \\nDonald Trump on Saturday was q...</td>\n",
       "      <td>FAKE</td>\n",
       "    </tr>\n",
       "    <tr>\n",
       "      <th>10499</th>\n",
       "      <td>30th Infantry Division: “Work Horse of the Wes...</td>\n",
       "      <td>Published on Oct 27, 2016 by Jeff Quitney The ...</td>\n",
       "      <td>FAKE</td>\n",
       "    </tr>\n",
       "    <tr>\n",
       "      <th>9</th>\n",
       "      <td>Planned Parenthood’s lobbying effort</td>\n",
       "      <td>and the future Fed rates</td>\n",
       "      <td>REAL</td>\n",
       "    </tr>\n",
       "    <tr>\n",
       "      <th>10492</th>\n",
       "      <td>TOP BRITISH GENERAL WARNS OF NUCLEAR WAR WITH ...</td>\n",
       "      <td>Paul Joseph Watson Senior British army officer...</td>\n",
       "      <td>FAKE</td>\n",
       "    </tr>\n",
       "    <tr>\n",
       "      <th>10138</th>\n",
       "      <td>Inside The Mind Of An FBI Informant</td>\n",
       "      <td>Inside The Mind Of An FBI Informant; Terri Lin...</td>\n",
       "      <td>FAKE</td>\n",
       "    </tr>\n",
       "    <tr>\n",
       "      <th>4953</th>\n",
       "      <td>Gary Johnson Avoids Typical Third-Party Fade</td>\n",
       "      <td>A couple of weeks ago in this space I pushed b...</td>\n",
       "      <td>REAL</td>\n",
       "    </tr>\n",
       "    <tr>\n",
       "      <th>496</th>\n",
       "      <td>Nearly 300K New Jobs In February</td>\n",
       "      <td>Nearly 300K New Jobs In February; Unemployment...</td>\n",
       "      <td>REAL</td>\n",
       "    </tr>\n",
       "    <tr>\n",
       "      <th>5741</th>\n",
       "      <td>Why Trump Won</td>\n",
       "      <td>WashingtonsBlog \\nBy Robert Parry, the inves...</td>\n",
       "      <td>FAKE</td>\n",
       "    </tr>\n",
       "    <tr>\n",
       "      <th>4131</th>\n",
       "      <td>Jesse Matthew charged in Hannah Graham's murder</td>\n",
       "      <td>Jesse Matthew Jr., a former hospital worker, w...</td>\n",
       "      <td>REAL</td>\n",
       "    </tr>\n",
       "    <tr>\n",
       "      <th>8748</th>\n",
       "      <td>WATCH: Mass Shooting Occurs During #TrumpRiot</td>\n",
       "      <td>WATCH: Mass Shooting Occurs During #TrumpRio...</td>\n",
       "      <td>FAKE</td>\n",
       "    </tr>\n",
       "    <tr>\n",
       "      <th>6717</th>\n",
       "      <td>Jim Rogers: It’s Time To Prepare</td>\n",
       "      <td>By: The Voice of Reason | Regardless of how mu...</td>\n",
       "      <td>FAKE</td>\n",
       "    </tr>\n",
       "    <tr>\n",
       "      <th>2943</th>\n",
       "      <td>Islamic State admits defeat in Kobani</td>\n",
       "      <td>Islamic State militants have acknowledged for ...</td>\n",
       "      <td>REAL</td>\n",
       "    </tr>\n",
       "    <tr>\n",
       "      <th>5248</th>\n",
       "      <td>Clinton Cries Racism Tagging Trump with KKK</td>\n",
       "      <td>With only about 70 days left until the electio...</td>\n",
       "      <td>REAL</td>\n",
       "    </tr>\n",
       "    <tr>\n",
       "      <th>3624</th>\n",
       "      <td>Suspects In Paris Magazine Attack Killed</td>\n",
       "      <td>Suspects In Paris Magazine Attack Killed; Mark...</td>\n",
       "      <td>REAL</td>\n",
       "    </tr>\n",
       "    <tr>\n",
       "      <th>6268</th>\n",
       "      <td>Chart Of The Day: Since 2009—–Recovery For The 5%</td>\n",
       "      <td>Chart Of The Day: Since 2009 Recovery For The 5%</td>\n",
       "      <td>FAKE</td>\n",
       "    </tr>\n",
       "    <tr>\n",
       "      <th>2738</th>\n",
       "      <td>Ted Cruz launches bid</td>\n",
       "      <td>Before he got to repealing ObamaCare, before h...</td>\n",
       "      <td>REAL</td>\n",
       "    </tr>\n",
       "    <tr>\n",
       "      <th>4025</th>\n",
       "      <td>State Dept. IDs 2 Americans killed in Nepal quake</td>\n",
       "      <td>The State Department identified two Americans ...</td>\n",
       "      <td>REAL</td>\n",
       "    </tr>\n",
       "    <tr>\n",
       "      <th>9954</th>\n",
       "      <td>Incredible smoke haze seen outside NDTV office...</td>\n",
       "      <td>Incredible smoke haze seen outside NDTV office...</td>\n",
       "      <td>FAKE</td>\n",
       "    </tr>\n",
       "  </tbody>\n",
       "</table>\n",
       "</div>"
      ],
      "text/plain": [
       "                                                   title  \\\n",
       "ID                                                         \n",
       "599                   Election Day: No Legal Pot In Ohio   \n",
       "10194  Who rode it best? Jesse Jackson mounts up to f...   \n",
       "356                       Black Hawk crashes off Florida   \n",
       "2786      Afghanistan: 19 die in air attacks on hospital   \n",
       "3622   Al Qaeda rep says group directed Paris magazin...   \n",
       "7375   Shallow 5.4 magnitude earthquake rattles centr...   \n",
       "9097                    ICE Agent Commits Suicide in NYC   \n",
       "9203         Political Correctness for Yuengling Brewery   \n",
       "1602   Poll gives Biden edge over Clinton against GOP...   \n",
       "4562                   Russia begins airstrikes in Syria   \n",
       "4748                                          Trump &amp   \n",
       "3508                          Belgian police mount raids   \n",
       "7559   STATE OF GEORGIA FIRES PASTOR BECAUSE OF HIS F...   \n",
       "3634       The Latest On Paris Attack: Manhunt Continues   \n",
       "8470   The Amish In America Commit Their Vote To Dona...   \n",
       "6404   #BREAKING: SECOND Assassination Attempt On Tru...   \n",
       "10499  30th Infantry Division: “Work Horse of the Wes...   \n",
       "9                   Planned Parenthood’s lobbying effort   \n",
       "10492  TOP BRITISH GENERAL WARNS OF NUCLEAR WAR WITH ...   \n",
       "10138                Inside The Mind Of An FBI Informant   \n",
       "4953        Gary Johnson Avoids Typical Third-Party Fade   \n",
       "496                     Nearly 300K New Jobs In February   \n",
       "5741                                       Why Trump Won   \n",
       "4131     Jesse Matthew charged in Hannah Graham's murder   \n",
       "8748       WATCH: Mass Shooting Occurs During #TrumpRiot   \n",
       "6717                    Jim Rogers: It’s Time To Prepare   \n",
       "2943               Islamic State admits defeat in Kobani   \n",
       "5248         Clinton Cries Racism Tagging Trump with KKK   \n",
       "3624            Suspects In Paris Magazine Attack Killed   \n",
       "6268   Chart Of The Day: Since 2009—–Recovery For The 5%   \n",
       "2738                               Ted Cruz launches bid   \n",
       "4025   State Dept. IDs 2 Americans killed in Nepal quake   \n",
       "9954   Incredible smoke haze seen outside NDTV office...   \n",
       "\n",
       "                                                    text label  \n",
       "ID                                                              \n",
       "599    Election Day: No Legal Pot In Ohio; Democrats ...  REAL  \n",
       "10194  Who rode it best? Jesse Jackson mounts up to f...  FAKE  \n",
       "356    (CNN) Thick fog forced authorities to suspend ...  REAL  \n",
       "2786   (CNN) Aerial bombardments blew apart a Doctors...  REAL  \n",
       "3622   A member of Al Qaeda's branch in Yemen said Fr...  REAL  \n",
       "7375    00 UTC © USGS Map of the earthquake's epicent...  FAKE  \n",
       "9097   Email Print After writing a lengthy suicide no...  FAKE  \n",
       "9203   We Are Change \\n\\nIn today’s political climate...  FAKE  \n",
       "1602   A new national poll shows Vice President Biden...  REAL  \n",
       "4562   Russian warplanes began airstrikes in Syria on...  REAL  \n",
       "4748   Let's pretend for a moment that the biggest he...  REAL  \n",
       "3508   Belgian authorities missed a chance to press a...  REAL  \n",
       "7559   Home › SOCIETY | US NEWS › STATE OF GEORGIA FI...  FAKE  \n",
       "3634   The Latest On Paris Attack: Manhunt Continues;...  REAL  \n",
       "8470   18 SHARE The Amish in America have committed t...  FAKE  \n",
       "6404   We Are Change \\nDonald Trump on Saturday was q...  FAKE  \n",
       "10499  Published on Oct 27, 2016 by Jeff Quitney The ...  FAKE  \n",
       "9                               and the future Fed rates  REAL  \n",
       "10492  Paul Joseph Watson Senior British army officer...  FAKE  \n",
       "10138  Inside The Mind Of An FBI Informant; Terri Lin...  FAKE  \n",
       "4953   A couple of weeks ago in this space I pushed b...  REAL  \n",
       "496    Nearly 300K New Jobs In February; Unemployment...  REAL  \n",
       "5741     WashingtonsBlog \\nBy Robert Parry, the inves...  FAKE  \n",
       "4131   Jesse Matthew Jr., a former hospital worker, w...  REAL  \n",
       "8748     WATCH: Mass Shooting Occurs During #TrumpRio...  FAKE  \n",
       "6717   By: The Voice of Reason | Regardless of how mu...  FAKE  \n",
       "2943   Islamic State militants have acknowledged for ...  REAL  \n",
       "5248   With only about 70 days left until the electio...  REAL  \n",
       "3624   Suspects In Paris Magazine Attack Killed; Mark...  REAL  \n",
       "6268    Chart Of The Day: Since 2009 Recovery For The 5%  FAKE  \n",
       "2738   Before he got to repealing ObamaCare, before h...  REAL  \n",
       "4025   The State Department identified two Americans ...  REAL  \n",
       "9954   Incredible smoke haze seen outside NDTV office...  FAKE  "
      ]
     },
     "execution_count": 8,
     "metadata": {},
     "output_type": "execute_result"
    }
   ],
   "source": [
    "# fix the errors\n",
    "bad_data.text = bad_data.iloc[:,2]\n",
    "bad_data.label = bad_data.iloc[:,3]\n",
    "bad_data.loc[9,'label'] = 'REAL'\n",
    "bad_data.loc[6268,'label'] = 'FAKE'\n",
    "bad_data.drop(['X1', 'X2'], axis=1, inplace=True)\n",
    "bad_data.columns = ['title', 'text', 'label']\n",
    "bad_data.head(33)"
   ]
  },
  {
   "cell_type": "code",
   "execution_count": 9,
   "metadata": {},
   "outputs": [
    {
     "data": {
      "image/png": "[encoded data removed]",
      "text/plain": [
       "<matplotlib.figure.Figure at 0x1a106ff898>"
      ]
     },
     "metadata": {},
     "output_type": "display_data"
    }
   ],
   "source": [
    "train = train.drop(['X1', 'X2'], axis=1) # drop X1 and X2 so we can replace\n",
    "train.loc[bad_data.index] = bad_data # replace\n",
    "\n",
    "# extracting the number of examples of each class\n",
    "real = train[train['label'] == 'REAL'].shape[0]\n",
    "fake = train[train['label'] == 'FAKE'].shape[0]\n",
    "\n",
    "# bar plot of the 3 classes\n",
    "plt.bar(20,real,4, label=\"Real\")\n",
    "plt.bar(25,fake,4, label=\"Fake\")\n",
    "plt.ylim(0, 2500)\n",
    "plt.legend()\n",
    "plt.ylabel('Total')\n",
    "plt.title('Distribution of News')\n",
    "plt.show()"
   ]
  },
  {
   "cell_type": "markdown",
   "metadata": {},
   "source": [
    "It looks to be equally distributed between real and fake news."
   ]
  },
  {
   "cell_type": "markdown",
   "metadata": {},
   "source": [
    "Next, we need to merge the title and text column."
   ]
  },
  {
   "cell_type": "code",
   "execution_count": 10,
   "metadata": {},
   "outputs": [
    {
     "data": {
      "text/html": [
       "<div>\n",
       "<style scoped>\n",
       "    .dataframe tbody tr th:only-of-type {\n",
       "        vertical-align: middle;\n",
       "    }\n",
       "\n",
       "    .dataframe tbody tr th {\n",
       "        vertical-align: top;\n",
       "    }\n",
       "\n",
       "    .dataframe thead th {\n",
       "        text-align: right;\n",
       "    }\n",
       "</style>\n",
       "<table border=\"1\" class=\"dataframe\">\n",
       "  <thead>\n",
       "    <tr style=\"text-align: right;\">\n",
       "      <th></th>\n",
       "      <th>text</th>\n",
       "      <th>label</th>\n",
       "    </tr>\n",
       "    <tr>\n",
       "      <th>ID</th>\n",
       "      <th></th>\n",
       "      <th></th>\n",
       "    </tr>\n",
       "  </thead>\n",
       "  <tbody>\n",
       "    <tr>\n",
       "      <th>8476</th>\n",
       "      <td>You Can Smell Hillary’s Fear Daniel Greenfield...</td>\n",
       "      <td>FAKE</td>\n",
       "    </tr>\n",
       "    <tr>\n",
       "      <th>10294</th>\n",
       "      <td>Watch The Exact Moment Paul Ryan Committed Pol...</td>\n",
       "      <td>FAKE</td>\n",
       "    </tr>\n",
       "    <tr>\n",
       "      <th>3608</th>\n",
       "      <td>Kerry to go to Paris in gesture of sympathy U....</td>\n",
       "      <td>REAL</td>\n",
       "    </tr>\n",
       "    <tr>\n",
       "      <th>10142</th>\n",
       "      <td>Bernie supporters on Twitter erupt in anger ag...</td>\n",
       "      <td>FAKE</td>\n",
       "    </tr>\n",
       "    <tr>\n",
       "      <th>875</th>\n",
       "      <td>The Battle of New York: Why This Primary Matte...</td>\n",
       "      <td>REAL</td>\n",
       "    </tr>\n",
       "  </tbody>\n",
       "</table>\n",
       "</div>"
      ],
      "text/plain": [
       "                                                    text label\n",
       "ID                                                            \n",
       "8476   You Can Smell Hillary’s Fear Daniel Greenfield...  FAKE\n",
       "10294  Watch The Exact Moment Paul Ryan Committed Pol...  FAKE\n",
       "3608   Kerry to go to Paris in gesture of sympathy U....  REAL\n",
       "10142  Bernie supporters on Twitter erupt in anger ag...  FAKE\n",
       "875    The Battle of New York: Why This Primary Matte...  REAL"
      ]
     },
     "execution_count": 10,
     "metadata": {},
     "output_type": "execute_result"
    }
   ],
   "source": [
    "label = train['label']\n",
    "#test_id = test['ID'] # save\n",
    "train = train.drop(['label'], axis=1)\n",
    "\n",
    "train = train.apply(lambda x: \" \".join(x), axis=1)\n",
    "test = test.apply(lambda x: \" \".join(x), axis=1)\n",
    "\n",
    "# save back to DF\n",
    "train = pd.DataFrame(train)\n",
    "train.columns = ['text'] # re-insert column name\n",
    "test = pd.DataFrame(test)\n",
    "test.columns = ['text']\n",
    "\n",
    "train['label'] = label\n",
    "train.head()"
   ]
  },
  {
   "cell_type": "markdown",
   "metadata": {},
   "source": [
    "We can check the Lexical Diversity for each document which is stored in an array, showing the percentage of unique words over the total words in each data set"
   ]
  },
  {
   "cell_type": "code",
   "execution_count": 11,
   "metadata": {},
   "outputs": [
    {
     "name": "stdout",
     "output_type": "stream",
     "text": [
      "Train Lexical Diversity: 0.0078 \n",
      "Test Set Lexical Diversity: 0.0859\n"
     ]
    }
   ],
   "source": [
    "def lexical_diversity(df, row):\n",
    "    '''function to find the lexical diversity on a given row'''\n",
    "    return len(set(df.iloc[0, row])) / len(df.iloc[0, row])\n",
    "\n",
    "# view the first row\n",
    "print(\"Train Lexical Diversity: %1.4f\" %lexical_diversity(train, 0),\n",
    "      \"\\nTest Set Lexical Diversity: %1.4f\" %lexical_diversity(test, 0))"
   ]
  },
  {
   "cell_type": "markdown",
   "metadata": {},
   "source": [
    "We will try two different approaches. First, we will transform the text by removing punctuation, tokenizing, stemming and see how our model performs. Second, we will do all the transformations through the vectorizer functions since it is much easier. We will see which performs better and move from there. I will not use tagging since it was really difficult to implement and might not be too intuitive."
   ]
  },
  {
   "cell_type": "markdown",
   "metadata": {},
   "source": [
    "**Transforming the Data**\n",
    "\n",
    "First, lets remove the punctuation."
   ]
  },
  {
   "cell_type": "code",
   "execution_count": 12,
   "metadata": {},
   "outputs": [
    {
     "data": {
      "text/html": [
       "<div>\n",
       "<style scoped>\n",
       "    .dataframe tbody tr th:only-of-type {\n",
       "        vertical-align: middle;\n",
       "    }\n",
       "\n",
       "    .dataframe tbody tr th {\n",
       "        vertical-align: top;\n",
       "    }\n",
       "\n",
       "    .dataframe thead th {\n",
       "        text-align: right;\n",
       "    }\n",
       "</style>\n",
       "<table border=\"1\" class=\"dataframe\">\n",
       "  <thead>\n",
       "    <tr style=\"text-align: right;\">\n",
       "      <th></th>\n",
       "      <th>text</th>\n",
       "      <th>label</th>\n",
       "    </tr>\n",
       "    <tr>\n",
       "      <th>ID</th>\n",
       "      <th></th>\n",
       "      <th></th>\n",
       "    </tr>\n",
       "  </thead>\n",
       "  <tbody>\n",
       "    <tr>\n",
       "      <th>8476</th>\n",
       "      <td>You Can Smell Hillary’s Fear Daniel Greenfield...</td>\n",
       "      <td>FAKE</td>\n",
       "    </tr>\n",
       "    <tr>\n",
       "      <th>10294</th>\n",
       "      <td>Watch The Exact Moment Paul Ryan Committed Pol...</td>\n",
       "      <td>FAKE</td>\n",
       "    </tr>\n",
       "    <tr>\n",
       "      <th>3608</th>\n",
       "      <td>Kerry to go to Paris in gesture of sympathy US...</td>\n",
       "      <td>REAL</td>\n",
       "    </tr>\n",
       "    <tr>\n",
       "      <th>10142</th>\n",
       "      <td>Bernie supporters on Twitter erupt in anger ag...</td>\n",
       "      <td>FAKE</td>\n",
       "    </tr>\n",
       "    <tr>\n",
       "      <th>875</th>\n",
       "      <td>The Battle of New York Why This Primary Matter...</td>\n",
       "      <td>REAL</td>\n",
       "    </tr>\n",
       "  </tbody>\n",
       "</table>\n",
       "</div>"
      ],
      "text/plain": [
       "                                                    text label\n",
       "ID                                                            \n",
       "8476   You Can Smell Hillary’s Fear Daniel Greenfield...  FAKE\n",
       "10294  Watch The Exact Moment Paul Ryan Committed Pol...  FAKE\n",
       "3608   Kerry to go to Paris in gesture of sympathy US...  REAL\n",
       "10142  Bernie supporters on Twitter erupt in anger ag...  FAKE\n",
       "875    The Battle of New York Why This Primary Matter...  REAL"
      ]
     },
     "execution_count": 12,
     "metadata": {},
     "output_type": "execute_result"
    }
   ],
   "source": [
    "def remove_punctuation(df):\n",
    "    '''function to remove punctuation''' \n",
    "    translator = str.maketrans('', '', string.punctuation)\n",
    "    return df.translate(translator)\n",
    "\n",
    "new_train = train.copy()\n",
    "new_test = test.copy()\n",
    "\n",
    "new_train['text'] = new_train['text'].apply(remove_punctuation)\n",
    "new_test['text'] = new_test['text'].apply(remove_punctuation)\n",
    "new_train.head()"
   ]
  },
  {
   "cell_type": "code",
   "execution_count": 13,
   "metadata": {},
   "outputs": [
    {
     "name": "stdout",
     "output_type": "stream",
     "text": [
      "Train Tokens: 67340, Test Tokens: 52766\n"
     ]
    }
   ],
   "source": [
    "# create a function to count\n",
    "from sklearn.feature_extraction.text import CountVectorizer\n",
    "\n",
    "def get_counts(df):\n",
    "    ''' function to get total counts'''\n",
    "    vectorizer = CountVectorizer()\n",
    "    counts = vectorizer.fit_transform(df.text) \n",
    "    return len(vectorizer.get_feature_names())\n",
    "\n",
    "print(\"Train Tokens: {}, Test Tokens: {}\".format(get_counts(new_train), get_counts(new_test)))"
   ]
  },
  {
   "cell_type": "markdown",
   "metadata": {},
   "source": [
    "Now we will remove all the english stopwords since most are just noise."
   ]
  },
  {
   "cell_type": "code",
   "execution_count": 14,
   "metadata": {},
   "outputs": [
    {
     "name": "stdout",
     "output_type": "stream",
     "text": [
      "Train Tokens: 67338, Test Tokens: 52762\n"
     ]
    },
    {
     "data": {
      "text/html": [
       "<div>\n",
       "<style scoped>\n",
       "    .dataframe tbody tr th:only-of-type {\n",
       "        vertical-align: middle;\n",
       "    }\n",
       "\n",
       "    .dataframe tbody tr th {\n",
       "        vertical-align: top;\n",
       "    }\n",
       "\n",
       "    .dataframe thead th {\n",
       "        text-align: right;\n",
       "    }\n",
       "</style>\n",
       "<table border=\"1\" class=\"dataframe\">\n",
       "  <thead>\n",
       "    <tr style=\"text-align: right;\">\n",
       "      <th></th>\n",
       "      <th>text</th>\n",
       "      <th>label</th>\n",
       "    </tr>\n",
       "    <tr>\n",
       "      <th>ID</th>\n",
       "      <th></th>\n",
       "      <th></th>\n",
       "    </tr>\n",
       "  </thead>\n",
       "  <tbody>\n",
       "    <tr>\n",
       "      <th>8476</th>\n",
       "      <td>Smell Hillary’s Fear Daniel Greenfield Shillma...</td>\n",
       "      <td>FAKE</td>\n",
       "    </tr>\n",
       "    <tr>\n",
       "      <th>10294</th>\n",
       "      <td>Watch Exact Moment Paul Ryan Committed Politic...</td>\n",
       "      <td>FAKE</td>\n",
       "    </tr>\n",
       "    <tr>\n",
       "      <th>3608</th>\n",
       "      <td>Kerry go Paris gesture sympathy US Secretary S...</td>\n",
       "      <td>REAL</td>\n",
       "    </tr>\n",
       "    <tr>\n",
       "      <th>10142</th>\n",
       "      <td>Bernie supporters Twitter erupt anger DNC trie...</td>\n",
       "      <td>FAKE</td>\n",
       "    </tr>\n",
       "    <tr>\n",
       "      <th>875</th>\n",
       "      <td>Battle New York Primary Matters primary day Ne...</td>\n",
       "      <td>REAL</td>\n",
       "    </tr>\n",
       "  </tbody>\n",
       "</table>\n",
       "</div>"
      ],
      "text/plain": [
       "                                                    text label\n",
       "ID                                                            \n",
       "8476   Smell Hillary’s Fear Daniel Greenfield Shillma...  FAKE\n",
       "10294  Watch Exact Moment Paul Ryan Committed Politic...  FAKE\n",
       "3608   Kerry go Paris gesture sympathy US Secretary S...  REAL\n",
       "10142  Bernie supporters Twitter erupt anger DNC trie...  FAKE\n",
       "875    Battle New York Primary Matters primary day Ne...  REAL"
      ]
     },
     "execution_count": 14,
     "metadata": {},
     "output_type": "execute_result"
    }
   ],
   "source": [
    "import nltk\n",
    "from nltk.corpus import stopwords\n",
    "\n",
    "sw = stopwords.words('english') # although some of the text is not in english, most are\n",
    "\n",
    "def stopwords(text):\n",
    "    '''function for removing the stopword'''\n",
    "    text = [word for word in text.split() if word.lower() not in sw]\n",
    "    return \" \".join(text)\n",
    "\n",
    "new_train['text'] = new_train['text'].apply(stopwords)\n",
    "new_test['text'] = new_test['text'].apply(stopwords)\n",
    "\n",
    "print(\"Train Tokens: {}, Test Tokens: {}\".format(get_counts(new_train), get_counts(new_test)))\n",
    "new_train.head()"
   ]
  },
  {
   "cell_type": "markdown",
   "metadata": {},
   "source": [
    "Next, we will tokenize with white spaces and then use the word net lemmatizer."
   ]
  },
  {
   "cell_type": "code",
   "execution_count": 15,
   "metadata": {},
   "outputs": [
    {
     "data": {
      "text/html": [
       "<div>\n",
       "<style scoped>\n",
       "    .dataframe tbody tr th:only-of-type {\n",
       "        vertical-align: middle;\n",
       "    }\n",
       "\n",
       "    .dataframe tbody tr th {\n",
       "        vertical-align: top;\n",
       "    }\n",
       "\n",
       "    .dataframe thead th {\n",
       "        text-align: right;\n",
       "    }\n",
       "</style>\n",
       "<table border=\"1\" class=\"dataframe\">\n",
       "  <thead>\n",
       "    <tr style=\"text-align: right;\">\n",
       "      <th></th>\n",
       "      <th>text</th>\n",
       "      <th>label</th>\n",
       "    </tr>\n",
       "    <tr>\n",
       "      <th>ID</th>\n",
       "      <th></th>\n",
       "      <th></th>\n",
       "    </tr>\n",
       "  </thead>\n",
       "  <tbody>\n",
       "    <tr>\n",
       "      <th>8476</th>\n",
       "      <td>[Smell, Hillary, Fear, Daniel, Greenfield, Shi...</td>\n",
       "      <td>FAKE</td>\n",
       "    </tr>\n",
       "    <tr>\n",
       "      <th>10294</th>\n",
       "      <td>[Watch, Exact, Moment, Paul, Ryan, Committed, ...</td>\n",
       "      <td>FAKE</td>\n",
       "    </tr>\n",
       "    <tr>\n",
       "      <th>3608</th>\n",
       "      <td>[Kerry, go, Paris, gesture, sympathy, US, Secr...</td>\n",
       "      <td>REAL</td>\n",
       "    </tr>\n",
       "    <tr>\n",
       "      <th>10142</th>\n",
       "      <td>[Bernie, supporter, Twitter, erupt, anger, DNC...</td>\n",
       "      <td>FAKE</td>\n",
       "    </tr>\n",
       "    <tr>\n",
       "      <th>875</th>\n",
       "      <td>[Battle, New, York, Primary, Matters, primary,...</td>\n",
       "      <td>REAL</td>\n",
       "    </tr>\n",
       "  </tbody>\n",
       "</table>\n",
       "</div>"
      ],
      "text/plain": [
       "                                                    text label\n",
       "ID                                                            \n",
       "8476   [Smell, Hillary, Fear, Daniel, Greenfield, Shi...  FAKE\n",
       "10294  [Watch, Exact, Moment, Paul, Ryan, Committed, ...  FAKE\n",
       "3608   [Kerry, go, Paris, gesture, sympathy, US, Secr...  REAL\n",
       "10142  [Bernie, supporter, Twitter, erupt, anger, DNC...  FAKE\n",
       "875    [Battle, New, York, Primary, Matters, primary,...  REAL"
      ]
     },
     "execution_count": 15,
     "metadata": {},
     "output_type": "execute_result"
    }
   ],
   "source": [
    "from nltk.tokenize import RegexpTokenizer\n",
    "\n",
    "lemmatizer = nltk.stem.WordNetLemmatizer()\n",
    "tokenizer = RegexpTokenizer(r'\\w+')\n",
    "\n",
    "def lemmatize_text(text):\n",
    "    '''function to tokenize and then lemmatize any word with length great than 1'''\n",
    "    return [lemmatizer.lemmatize(w) for w in tokenizer.tokenize(text) if len(w) > 1]\n",
    "\n",
    "new_train['text'] = new_train['text'].apply(lemmatize_text)\n",
    "new_test['text'] = new_test['text'].apply(lemmatize_text)\n",
    "\n",
    "new_train.head()"
   ]
  },
  {
   "cell_type": "markdown",
   "metadata": {},
   "source": [
    "We tried using both the SnowballStemmer and PorterStemmer. PorterStemmer worked a little better but there was not much of a difference so we will go with that one. Here is the code for the SnowballStemmer just for your information."
   ]
  },
  {
   "cell_type": "raw",
   "metadata": {},
   "source": [
    "from nltk.stem.snowball import SnowballStemmer\n",
    "\n",
    "stemmer = SnowballStemmer(\"english\")\n",
    "\n",
    "def stemming(text):    \n",
    "    '''a function which stems each word in the given text'''\n",
    "    text = [stemmer.stem(str(word)) for word in text]\n",
    "    return \" \".join(text) \n",
    "\n",
    "new_train['text'] = new_train['text'].apply(stemming)\n",
    "new_test['text'] = new_test['text'].apply(stemming)\n",
    "\n",
    "new_train.head()"
   ]
  },
  {
   "cell_type": "code",
   "execution_count": 16,
   "metadata": {},
   "outputs": [
    {
     "data": {
      "text/html": [
       "<div>\n",
       "<style scoped>\n",
       "    .dataframe tbody tr th:only-of-type {\n",
       "        vertical-align: middle;\n",
       "    }\n",
       "\n",
       "    .dataframe tbody tr th {\n",
       "        vertical-align: top;\n",
       "    }\n",
       "\n",
       "    .dataframe thead th {\n",
       "        text-align: right;\n",
       "    }\n",
       "</style>\n",
       "<table border=\"1\" class=\"dataframe\">\n",
       "  <thead>\n",
       "    <tr style=\"text-align: right;\">\n",
       "      <th></th>\n",
       "      <th>text</th>\n",
       "      <th>label</th>\n",
       "    </tr>\n",
       "    <tr>\n",
       "      <th>ID</th>\n",
       "      <th></th>\n",
       "      <th></th>\n",
       "    </tr>\n",
       "  </thead>\n",
       "  <tbody>\n",
       "    <tr>\n",
       "      <th>8476</th>\n",
       "      <td>smell hillari fear daniel greenfield shillman ...</td>\n",
       "      <td>FAKE</td>\n",
       "    </tr>\n",
       "    <tr>\n",
       "      <th>10294</th>\n",
       "      <td>watch exact moment paul ryan commit polit suic...</td>\n",
       "      <td>FAKE</td>\n",
       "    </tr>\n",
       "    <tr>\n",
       "      <th>3608</th>\n",
       "      <td>kerri go pari gestur sympathi US secretari sta...</td>\n",
       "      <td>REAL</td>\n",
       "    </tr>\n",
       "    <tr>\n",
       "      <th>10142</th>\n",
       "      <td>berni support twitter erupt anger dnc tri warn...</td>\n",
       "      <td>FAKE</td>\n",
       "    </tr>\n",
       "    <tr>\n",
       "      <th>875</th>\n",
       "      <td>battl new york primari matter primari day new ...</td>\n",
       "      <td>REAL</td>\n",
       "    </tr>\n",
       "  </tbody>\n",
       "</table>\n",
       "</div>"
      ],
      "text/plain": [
       "                                                    text label\n",
       "ID                                                            \n",
       "8476   smell hillari fear daniel greenfield shillman ...  FAKE\n",
       "10294  watch exact moment paul ryan commit polit suic...  FAKE\n",
       "3608   kerri go pari gestur sympathi US secretari sta...  REAL\n",
       "10142  berni support twitter erupt anger dnc tri warn...  FAKE\n",
       "875    battl new york primari matter primari day new ...  REAL"
      ]
     },
     "execution_count": 16,
     "metadata": {},
     "output_type": "execute_result"
    }
   ],
   "source": [
    "stemmer = nltk.PorterStemmer()\n",
    "\n",
    "def stemming(text):    \n",
    "    '''a function which stems each word in the given text'''\n",
    "    text = [stemmer.stem(str(word)) for word in text]\n",
    "    return \" \".join(text) \n",
    "\n",
    "new_train['text'] = new_train['text'].apply(stemming)\n",
    "new_test['text'] = new_test['text'].apply(stemming)\n",
    "\n",
    "new_train.head()"
   ]
  },
  {
   "cell_type": "markdown",
   "metadata": {},
   "source": [
    "We can separate the data between real and fake news to gain some insights."
   ]
  },
  {
   "cell_type": "code",
   "execution_count": 17,
   "metadata": {},
   "outputs": [],
   "source": [
    "real_news = train.loc[train['label'] == 'REAL']\n",
    "real_label = real_news['label']\n",
    "\n",
    "fake_news = train.loc[train['label'] == 'FAKE']\n",
    "fake_label = fake_news['label']"
   ]
  },
  {
   "cell_type": "code",
   "execution_count": 18,
   "metadata": {},
   "outputs": [
    {
     "data": {
      "text/plain": [
       "(2799,)"
      ]
     },
     "execution_count": 18,
     "metadata": {},
     "output_type": "execute_result"
    }
   ],
   "source": [
    "from sklearn.model_selection import train_test_split\n",
    "\n",
    "X_train, X_test, y_train, y_test = train_test_split(new_train['text'], label, test_size=0.3, random_state=69)\n",
    "\n",
    "X_train.shape"
   ]
  },
  {
   "cell_type": "markdown",
   "metadata": {},
   "source": [
    "**Encoding**\n",
    "\n",
    "Here we will try the count_vectorizer. CountVectorizer tokenizes all the string, makes a note of all the words that appear and counts the number of times each token appears. "
   ]
  },
  {
   "cell_type": "code",
   "execution_count": 19,
   "metadata": {},
   "outputs": [
    {
     "name": "stdout",
     "output_type": "stream",
     "text": [
      "['00', '000', '0000', '00017b2908ff9fa45188d243fd49aaeeb2dhrcofficecom', '0002', '0007', '001', '0026', '005', '007', '007010', '01', '010', '01011984', '010608', '01112016', '012015', '015', '017', '017mile']\n",
      "There are 40384 tokens in Count Vectorizer\n"
     ]
    }
   ],
   "source": [
    "count_vectorizer = CountVectorizer()\n",
    "count_train = count_vectorizer.fit_transform(X_train) \n",
    "count_test = count_vectorizer.transform(X_test)\n",
    "\n",
    "# print the feature names \n",
    "print(count_vectorizer.get_feature_names()[:20])\n",
    "print(\"There are {} tokens in Count Vectorizer\".format(len(count_vectorizer.get_feature_names())))"
   ]
  },
  {
   "cell_type": "markdown",
   "metadata": {},
   "source": [
    "We will evaluate our models by using a confusion matrix. I found a nice confusion matrix code from a Data Camp tutorial at https://www.datacamp.com/community/tutorials/scikit-learn-fake-news."
   ]
  },
  {
   "cell_type": "code",
   "execution_count": 22,
   "metadata": {},
   "outputs": [],
   "source": [
    "def plot_confusion_matrix(cm, classes, normalize=False, title='Confusion matrix'):\n",
    "    '''function to plot a confusion matrix'''\n",
    "    plt.imshow(cm, interpolation='nearest', cmap=plt.cm.Purples)\n",
    "    plt.title(title)\n",
    "    plt.colorbar()\n",
    "    tick_marks = np.arange(len(classes))\n",
    "    plt.xticks(tick_marks, classes, rotation=45)\n",
    "    plt.yticks(tick_marks, classes)\n",
    "\n",
    "    thresh = cm.max() / 2.\n",
    "    for i, j in itertools.product(range(cm.shape[0]), range(cm.shape[1])):\n",
    "        plt.text(j, i, cm[i, j],\n",
    "                 horizontalalignment=\"center\",\n",
    "                 color=\"white\" if cm[i, j] > thresh else \"black\")\n",
    "\n",
    "    plt.tight_layout()\n",
    "    plt.ylabel('Actual')\n",
    "    plt.xlabel('Predicted')"
   ]
  },
  {
   "cell_type": "markdown",
   "metadata": {},
   "source": [
    "Here, we will use Naive Bayes model to test the Count Vectorizer."
   ]
  },
  {
   "cell_type": "code",
   "execution_count": 23,
   "metadata": {},
   "outputs": [
    {
     "name": "stdout",
     "output_type": "stream",
     "text": [
      "accuracy:   0.890\n"
     ]
    }
   ],
   "source": [
    "from sklearn.naive_bayes import MultinomialNB\n",
    "from sklearn import metrics\n",
    "\n",
    "m1 = MultinomialNB() \n",
    "\n",
    "m1.fit(count_train, y_train)\n",
    "pred1 = m1.predict(count_test)\n",
    "score1 = metrics.accuracy_score(y_test, pred1)\n",
    "print(\"accuracy:   %0.3f\" % score1)"
   ]
  },
  {
   "cell_type": "code",
   "execution_count": 24,
   "metadata": {},
   "outputs": [],
   "source": [
    "# create these two functions for fitting and testing the model because we will be testing alot\n",
    "def fit_model(train, test, model, cm=False):\n",
    "    '''function to fit and apply model with the option to show Confusion Matrix'''\n",
    "    model.fit(train, y_train)\n",
    "    pred = model.predict(test)\n",
    "    score = metrics.accuracy_score(y_test, pred)\n",
    "    print(\"accuracy:   %0.3f\" % score)\n",
    "    if cm:\n",
    "        cm = metrics.confusion_matrix(y_test, pred, labels=['FAKE', 'REAL'])\n",
    "        plot_confusion_matrix(cm, classes=['FAKE', 'REAL'], title='Confusion Matrix')\n",
    "    \n",
    "# create function for alpha\n",
    "def find_alpha(X_train, X_test, model):\n",
    "    '''function to find best alpha'''\n",
    "    alphas = np.arange(0, 1, .1)\n",
    "    best_score = 0\n",
    "    for alpha in alphas:\n",
    "        alpha_model = model(alpha=alpha)\n",
    "        alpha_model.fit(X_train, y_train)\n",
    "        pred = alpha_model.predict(X_test)\n",
    "        score = metrics.accuracy_score(y_test, pred)\n",
    "        if score > best_score:\n",
    "            clf = alpha_model\n",
    "        print(\"Alpha: {:.2f} Score: {:.6f}\".format(alpha, score))"
   ]
  },
  {
   "cell_type": "code",
   "execution_count": 25,
   "metadata": {},
   "outputs": [
    {
     "name": "stdout",
     "output_type": "stream",
     "text": [
      "Alpha: 0.00 Score: 0.872500\n",
      "Alpha: 0.10 Score: 0.895833\n",
      "Alpha: 0.20 Score: 0.896667\n",
      "Alpha: 0.30 Score: 0.897500\n",
      "Alpha: 0.40 Score: 0.899167\n",
      "Alpha: 0.50 Score: 0.899167\n",
      "Alpha: 0.60 Score: 0.895833\n",
      "Alpha: 0.70 Score: 0.895000\n",
      "Alpha: 0.80 Score: 0.894167\n",
      "Alpha: 0.90 Score: 0.894167\n"
     ]
    }
   ],
   "source": [
    "find_alpha(count_train, count_test, MultinomialNB)"
   ]
  },
  {
   "cell_type": "code",
   "execution_count": 26,
   "metadata": {},
   "outputs": [
    {
     "name": "stdout",
     "output_type": "stream",
     "text": [
      "accuracy:   0.896\n"
     ]
    }
   ],
   "source": [
    "m1 = MultinomialNB(alpha=0.1) \n",
    "\n",
    "fit_model(count_train, count_test, m1)"
   ]
  },
  {
   "cell_type": "code",
   "execution_count": 27,
   "metadata": {},
   "outputs": [
    {
     "name": "stdout",
     "output_type": "stream",
     "text": [
      "['ťtwostateť', 'ťwho', 'ź50000', 'ελληνικά', 'октября', 'русский', 'эa', 'эin', 'эthe', 'яркий', 'آمریکا', 'ارزی', 'ایران', 'جنگ', 'سال', 'عربي', 'علیه', 'مطالعاتی', 'مورد', 'کدآمایی']\n"
     ]
    }
   ],
   "source": [
    "from sklearn.feature_extraction.text import TfidfVectorizer\n",
    "\n",
    "tfidf_vectorizer = TfidfVectorizer(max_df=0.65)\n",
    "tfidf_train = tfidf_vectorizer.fit_transform(X_train) \n",
    "tfidf_test = tfidf_vectorizer.transform(X_test)\n",
    "\n",
    "# print the feature names \n",
    "print(tfidf_vectorizer.get_feature_names()[-20:]) # do last 20 since the first will match the previous vectorizer"
   ]
  },
  {
   "cell_type": "code",
   "execution_count": 28,
   "metadata": {},
   "outputs": [
    {
     "name": "stdout",
     "output_type": "stream",
     "text": [
      "accuracy:   0.786\n"
     ]
    }
   ],
   "source": [
    "m2 = MultinomialNB()\n",
    "\n",
    "fit_model(tfidf_train, tfidf_test, m2)"
   ]
  },
  {
   "cell_type": "code",
   "execution_count": 29,
   "metadata": {},
   "outputs": [
    {
     "name": "stdout",
     "output_type": "stream",
     "text": [
      "Alpha: 0.00 Score: 0.874167\n",
      "Alpha: 0.10 Score: 0.897500\n",
      "Alpha: 0.20 Score: 0.882500\n",
      "Alpha: 0.30 Score: 0.869167\n",
      "Alpha: 0.40 Score: 0.846667\n",
      "Alpha: 0.50 Score: 0.839167\n",
      "Alpha: 0.60 Score: 0.826667\n",
      "Alpha: 0.70 Score: 0.811667\n",
      "Alpha: 0.80 Score: 0.804167\n",
      "Alpha: 0.90 Score: 0.794167\n"
     ]
    }
   ],
   "source": [
    "# lets try to find the right alpha\n",
    "find_alpha(tfidf_train, tfidf_test, MultinomialNB)"
   ]
  },
  {
   "cell_type": "code",
   "execution_count": 30,
   "metadata": {},
   "outputs": [
    {
     "name": "stdout",
     "output_type": "stream",
     "text": [
      "accuracy:   0.897\n"
     ]
    },
    {
     "data": {
      "image/png": "[encoded data removed]",
      "text/plain": [
       "<matplotlib.figure.Figure at 0x1a1abb53c8>"
      ]
     },
     "metadata": {},
     "output_type": "display_data"
    }
   ],
   "source": [
    "m2 = MultinomialNB(alpha=0.1)\n",
    "\n",
    "fit_model(tfidf_train, tfidf_test, m2, cm=True)"
   ]
  },
  {
   "cell_type": "code",
   "execution_count": 31,
   "metadata": {},
   "outputs": [],
   "source": [
    "from sklearn.feature_extraction.text import HashingVectorizer\n",
    "\n",
    "hash_vectorizer = HashingVectorizer(non_negative=True)\n",
    "hash_train = hash_vectorizer.fit_transform(X_train)\n",
    "hash_test = hash_vectorizer.transform(X_test)"
   ]
  },
  {
   "cell_type": "code",
   "execution_count": 32,
   "metadata": {},
   "outputs": [
    {
     "name": "stdout",
     "output_type": "stream",
     "text": [
      "accuracy:   0.756\n"
     ]
    }
   ],
   "source": [
    "m3 = MultinomialNB()\n",
    "\n",
    "fit_model(hash_train, hash_test, m3)"
   ]
  },
  {
   "cell_type": "code",
   "execution_count": 33,
   "metadata": {},
   "outputs": [
    {
     "name": "stdout",
     "output_type": "stream",
     "text": [
      "Alpha: 0.00 Score: 0.877500\n",
      "Alpha: 0.10 Score: 0.828333\n",
      "Alpha: 0.20 Score: 0.807500\n",
      "Alpha: 0.30 Score: 0.801667\n",
      "Alpha: 0.40 Score: 0.789167\n",
      "Alpha: 0.50 Score: 0.777500\n",
      "Alpha: 0.60 Score: 0.773333\n",
      "Alpha: 0.70 Score: 0.766667\n",
      "Alpha: 0.80 Score: 0.765000\n",
      "Alpha: 0.90 Score: 0.757500\n"
     ]
    }
   ],
   "source": [
    "# lets try to find the right alpha\n",
    "find_alpha(hash_train, hash_test, MultinomialNB)"
   ]
  },
  {
   "cell_type": "code",
   "execution_count": 34,
   "metadata": {},
   "outputs": [
    {
     "name": "stdout",
     "output_type": "stream",
     "text": [
      "accuracy:   0.912\n"
     ]
    },
    {
     "data": {
      "image/png": "[encoded data removed]",
      "text/plain": [
       "<matplotlib.figure.Figure at 0x1a1ba50320>"
      ]
     },
     "metadata": {},
     "output_type": "display_data"
    }
   ],
   "source": [
    "m3 = MultinomialNB(alpha=0.001)\n",
    "\n",
    "fit_model(hash_train, hash_test, m3, cm=True)"
   ]
  },
  {
   "cell_type": "markdown",
   "metadata": {},
   "source": [
    "These scores are pretty good. We have already surpassed our baseline of 90% accuracy. We will now try our second approach by applying all the transformations from the vectorizer parameters on the unaltered data set. We will evaluate what works better and pick a model to fine tune."
   ]
  },
  {
   "cell_type": "code",
   "execution_count": 35,
   "metadata": {},
   "outputs": [],
   "source": [
    "# Make training and test sets with original train data set\n",
    "X_train, X_test, y_train, y_test = train_test_split(train['text'], label, test_size=0.3, random_state=69)"
   ]
  },
  {
   "cell_type": "code",
   "execution_count": 36,
   "metadata": {},
   "outputs": [
    {
     "name": "stdout",
     "output_type": "stream",
     "text": [
      "['!', '!!', '!!!', '!!!”', '!!?', '!”', '\"', '\"\"clearly', '\"$100,000?', '\"$50', '\"$66', '\"\\'i', '\"\\'it\\'s', '\"\\'stronger', '\"\\'the', '\"\\'unacceptable\\'', '\"(1)', '\"(bush', '\"(obama)', '\"(republicans)']\n",
      "There are 121720 tokens in Count Vectorizer\n"
     ]
    }
   ],
   "source": [
    "# tokenizers\n",
    "white_space = '\\\\S+(?=\\\\s+)' # we will use white space tokenizer\n",
    "alphanumeric = '[A-Za-z0-9]+(?=\\\\s+)'\n",
    "\n",
    "# ngrams\n",
    "unigrams = (1,1)\n",
    "bigrams = (1,2)\n",
    "trigrams = (1,3)\n",
    "\n",
    "count_vectorizer = CountVectorizer(token_pattern=white_space, ngram_range=unigrams, analyzer='word') # unigrams and word analyzer\n",
    "count_train = count_vectorizer.fit_transform(X_train) \n",
    "count_test = count_vectorizer.transform(X_test)\n",
    "\n",
    "# print the feature names \n",
    "print(count_vectorizer.get_feature_names()[:20])\n",
    "print(\"There are {} tokens in Count Vectorizer\".format(len(count_vectorizer.get_feature_names())))"
   ]
  },
  {
   "cell_type": "code",
   "execution_count": 37,
   "metadata": {},
   "outputs": [
    {
     "name": "stdout",
     "output_type": "stream",
     "text": [
      "accuracy:   0.903\n"
     ]
    },
    {
     "data": {
      "image/png": "[encoded data removed]",
      "text/plain": [
       "<matplotlib.figure.Figure at 0x1a21990c88>"
      ]
     },
     "metadata": {},
     "output_type": "display_data"
    }
   ],
   "source": [
    "m4 = MultinomialNB() \n",
    "\n",
    "fit_model(count_train, count_test, m4, cm=True)"
   ]
  },
  {
   "cell_type": "code",
   "execution_count": 38,
   "metadata": {},
   "outputs": [
    {
     "name": "stdout",
     "output_type": "stream",
     "text": [
      "Alpha: 0.00 Score: 0.894167\n",
      "Alpha: 0.10 Score: 0.913333\n",
      "Alpha: 0.20 Score: 0.914167\n",
      "Alpha: 0.30 Score: 0.910000\n",
      "Alpha: 0.40 Score: 0.907500\n",
      "Alpha: 0.50 Score: 0.907500\n",
      "Alpha: 0.60 Score: 0.907500\n",
      "Alpha: 0.70 Score: 0.906667\n",
      "Alpha: 0.80 Score: 0.904167\n",
      "Alpha: 0.90 Score: 0.903333\n"
     ]
    }
   ],
   "source": [
    "find_alpha(count_train, count_test, MultinomialNB)"
   ]
  },
  {
   "cell_type": "code",
   "execution_count": 39,
   "metadata": {},
   "outputs": [
    {
     "name": "stdout",
     "output_type": "stream",
     "text": [
      "accuracy:   0.914\n"
     ]
    },
    {
     "data": {
      "image/png": "[encoded data removed]",
      "text/plain": [
       "<matplotlib.figure.Figure at 0x1a21e79518>"
      ]
     },
     "metadata": {},
     "output_type": "display_data"
    }
   ],
   "source": [
    "m4 = MultinomialNB(alpha=0.2) \n",
    "\n",
    "fit_model(count_train, count_test, m4, cm=True)"
   ]
  },
  {
   "cell_type": "markdown",
   "metadata": {},
   "source": [
    "Already surpassed all our previous models. We will continue with the other vectorizers."
   ]
  },
  {
   "cell_type": "code",
   "execution_count": 40,
   "metadata": {},
   "outputs": [
    {
     "name": "stdout",
     "output_type": "stream",
     "text": [
      "['……', '…….', '‹', '›', '€100,000', '€90', '₹1000', '₹500', '⅔', '→', '►', '♥', '✓', '\\uf50d', '🇺🇸', '😀', '😂', '😉', '😳', '🙂']\n"
     ]
    }
   ],
   "source": [
    "tfidf_vectorizer = TfidfVectorizer(max_df=0.65, token_pattern=white_space, ngram_range=unigrams, analyzer='word') \n",
    "# use white space again\n",
    "tfidf_train = tfidf_vectorizer.fit_transform(X_train) \n",
    "tfidf_test = tfidf_vectorizer.transform(X_test)\n",
    "\n",
    "# print the feature names \n",
    "print(tfidf_vectorizer.get_feature_names()[-20:]) # do last 20 since the first will match the previous vectorizer"
   ]
  },
  {
   "cell_type": "code",
   "execution_count": 41,
   "metadata": {},
   "outputs": [
    {
     "name": "stdout",
     "output_type": "stream",
     "text": [
      "accuracy:   0.779\n"
     ]
    }
   ],
   "source": [
    "m5 = MultinomialNB()\n",
    "\n",
    "fit_model(tfidf_train, tfidf_test, m5)"
   ]
  },
  {
   "cell_type": "code",
   "execution_count": 42,
   "metadata": {},
   "outputs": [
    {
     "name": "stdout",
     "output_type": "stream",
     "text": [
      "Alpha: 0.00 Score: 0.888333\n",
      "Alpha: 0.10 Score: 0.906667\n",
      "Alpha: 0.20 Score: 0.885833\n",
      "Alpha: 0.30 Score: 0.853333\n",
      "Alpha: 0.40 Score: 0.836667\n",
      "Alpha: 0.50 Score: 0.828333\n",
      "Alpha: 0.60 Score: 0.818333\n",
      "Alpha: 0.70 Score: 0.805000\n",
      "Alpha: 0.80 Score: 0.799167\n",
      "Alpha: 0.90 Score: 0.787500\n"
     ]
    }
   ],
   "source": [
    "# lets try to find the right alpha\n",
    "find_alpha(tfidf_train, tfidf_test, MultinomialNB)"
   ]
  },
  {
   "cell_type": "code",
   "execution_count": 43,
   "metadata": {},
   "outputs": [
    {
     "name": "stdout",
     "output_type": "stream",
     "text": [
      "accuracy:   0.913\n"
     ]
    },
    {
     "data": {
      "image/png": "[encoded data removed]",
      "text/plain": [
       "<matplotlib.figure.Figure at 0x1a20b284a8>"
      ]
     },
     "metadata": {},
     "output_type": "display_data"
    }
   ],
   "source": [
    "m5 = MultinomialNB(alpha=0.1)\n",
    "\n",
    "fit_model(count_train, count_test, m5, cm=True)"
   ]
  },
  {
   "cell_type": "code",
   "execution_count": 44,
   "metadata": {},
   "outputs": [],
   "source": [
    "hash_vectorizer = HashingVectorizer(non_negative=True, token_pattern=white_space, ngram_range=unigrams) #ngrams perform worse\n",
    "hash_train = hash_vectorizer.fit_transform(X_train)\n",
    "hash_test = hash_vectorizer.transform(X_test)"
   ]
  },
  {
   "cell_type": "code",
   "execution_count": 45,
   "metadata": {},
   "outputs": [
    {
     "name": "stdout",
     "output_type": "stream",
     "text": [
      "accuracy:   0.739\n"
     ]
    }
   ],
   "source": [
    "m6 = MultinomialNB()\n",
    "\n",
    "fit_model(hash_train, hash_test, m6)"
   ]
  },
  {
   "cell_type": "code",
   "execution_count": 46,
   "metadata": {},
   "outputs": [
    {
     "name": "stdout",
     "output_type": "stream",
     "text": [
      "Alpha: 0.00 Score: 0.896667\n",
      "Alpha: 0.10 Score: 0.842500\n",
      "Alpha: 0.20 Score: 0.811667\n",
      "Alpha: 0.30 Score: 0.790000\n",
      "Alpha: 0.40 Score: 0.776667\n",
      "Alpha: 0.50 Score: 0.765833\n",
      "Alpha: 0.60 Score: 0.759167\n",
      "Alpha: 0.70 Score: 0.753333\n",
      "Alpha: 0.80 Score: 0.750000\n",
      "Alpha: 0.90 Score: 0.745000\n"
     ]
    }
   ],
   "source": [
    "# lets try to find the right alpha\n",
    "find_alpha(hash_train, hash_test, MultinomialNB)"
   ]
  },
  {
   "cell_type": "code",
   "execution_count": 47,
   "metadata": {},
   "outputs": [
    {
     "name": "stdout",
     "output_type": "stream",
     "text": [
      "accuracy:   0.916\n"
     ]
    },
    {
     "data": {
      "image/png": "[encoded data removed]",
      "text/plain": [
       "<matplotlib.figure.Figure at 0x1a20b3af60>"
      ]
     },
     "metadata": {},
     "output_type": "display_data"
    }
   ],
   "source": [
    "m6 = MultinomialNB(alpha=0.01)\n",
    "\n",
    "fit_model(hash_train, hash_test, m6, cm=True)"
   ]
  },
  {
   "cell_type": "markdown",
   "metadata": {
    "collapsed": true
   },
   "source": [
    "For now we will stick with tkdf since we get better results"
   ]
  },
  {
   "cell_type": "code",
   "execution_count": 48,
   "metadata": {},
   "outputs": [
    {
     "name": "stdout",
     "output_type": "stream",
     "text": [
      "accuracy:   0.949\n"
     ]
    }
   ],
   "source": [
    "# TFIDF data set\n",
    "from sklearn.linear_model import PassiveAggressiveClassifier\n",
    "\n",
    "m7 = PassiveAggressiveClassifier(n_iter=50, random_state=69)\n",
    "\n",
    "fit_model(tfidf_train, tfidf_test, m7)"
   ]
  },
  {
   "cell_type": "markdown",
   "metadata": {},
   "source": [
    "The PassiveAggressive gave us a great score. Let us see if we can make it better."
   ]
  },
  {
   "cell_type": "code",
   "execution_count": 49,
   "metadata": {},
   "outputs": [],
   "source": [
    "# create function\n",
    "def find_C(X_train, X_test, model):\n",
    "    '''function to find best C'''\n",
    "    C = [0.001, 0.01, 0.1, 1, 10, 100] # the most commonly used that I have seen so far\n",
    "    best_C_score = 0\n",
    "    for c in C:\n",
    "        C_model = model(C=c)\n",
    "        C_model.fit(X_train, y_train)\n",
    "        pred = C_model.predict(X_test)\n",
    "        score = metrics.accuracy_score(y_test, pred)\n",
    "        if score > best_C_score:\n",
    "            clf = C_model\n",
    "        print(\"C: {:.2f} Score: {:.6f}\".format(c, score))"
   ]
  },
  {
   "cell_type": "code",
   "execution_count": 50,
   "metadata": {},
   "outputs": [
    {
     "name": "stdout",
     "output_type": "stream",
     "text": [
      "C: 0.00 Score: 0.900833\n",
      "C: 0.01 Score: 0.910833\n",
      "C: 0.10 Score: 0.900833\n",
      "C: 1.00 Score: 0.880000\n",
      "C: 10.00 Score: 0.882500\n",
      "C: 100.00 Score: 0.908333\n"
     ]
    }
   ],
   "source": [
    "find_C(count_train, count_test, PassiveAggressiveClassifier)"
   ]
  },
  {
   "cell_type": "code",
   "execution_count": 51,
   "metadata": {},
   "outputs": [
    {
     "name": "stdout",
     "output_type": "stream",
     "text": [
      "accuracy:   0.951\n"
     ]
    },
    {
     "data": {
      "image/png": "[encoded data removed]",
      "text/plain": [
       "<matplotlib.figure.Figure at 0x1a20720d30>"
      ]
     },
     "metadata": {},
     "output_type": "display_data"
    }
   ],
   "source": [
    "m7 = PassiveAggressiveClassifier(n_iter=50, C=.06, random_state=69) # this worked the best after trying a few\n",
    "\n",
    "fit_model(tfidf_train, tfidf_test, m7, cm=True)"
   ]
  },
  {
   "cell_type": "code",
   "execution_count": 52,
   "metadata": {},
   "outputs": [
    {
     "name": "stdout",
     "output_type": "stream",
     "text": [
      "accuracy:   0.948\n"
     ]
    },
    {
     "data": {
      "image/png": "[encoded data removed]",
      "text/plain": [
       "<matplotlib.figure.Figure at 0x1a21731588>"
      ]
     },
     "metadata": {},
     "output_type": "display_data"
    }
   ],
   "source": [
    "from nltk.classify import SklearnClassifier\n",
    "from sklearn.svm import LinearSVC\n",
    "\n",
    "m8 = LinearSVC(C=10, random_state=69) # tried enforcing penalty 1 and got a better score\n",
    "\n",
    "fit_model(tfidf_train, tfidf_test, m8, cm=True)"
   ]
  },
  {
   "cell_type": "markdown",
   "metadata": {},
   "source": [
    "So I tried multiple other by using all three different vectorizers and applying them to NB, Passive Aggressive and finally SVM. These last two models gave me the best score so I will use a VotingClassifier to see if I can use the results from both models. I will use cross-validation on the full data set to avoid overfitting and see a much more realistic score."
   ]
  },
  {
   "cell_type": "code",
   "execution_count": 53,
   "metadata": {},
   "outputs": [
    {
     "name": "stdout",
     "output_type": "stream",
     "text": [
      "['!', '!!', '!!!', '!!!”', '!!?', '!?', '!f', '!”', '!”)', '\"', '\"\"clearly', '\"#imwithyou,\"', '\"#muslimlivesmatter\"', '\"$100,000?', '\"$50', '\"$66', '\"\\'i', '\"\\'it\\'s', '\"\\'knowing', '\"\\'stronger']\n"
     ]
    }
   ],
   "source": [
    "tfidf_vectorizer = TfidfVectorizer(max_df=0.6, token_pattern=white_space, ngram_range=unigrams, analyzer='word') # use white space again, unigrams works best\n",
    "tfidf_train_full = tfidf_vectorizer.fit_transform(train['text']) \n",
    "tfidf_test_full = tfidf_vectorizer.transform(test['text'])\n",
    "\n",
    "# print the feature names \n",
    "print(tfidf_vectorizer.get_feature_names()[:20]) # first 20 features"
   ]
  },
  {
   "cell_type": "code",
   "execution_count": 54,
   "metadata": {},
   "outputs": [
    {
     "data": {
      "text/html": [
       "<div>\n",
       "<style scoped>\n",
       "    .dataframe tbody tr th:only-of-type {\n",
       "        vertical-align: middle;\n",
       "    }\n",
       "\n",
       "    .dataframe tbody tr th {\n",
       "        vertical-align: top;\n",
       "    }\n",
       "\n",
       "    .dataframe thead th {\n",
       "        text-align: right;\n",
       "    }\n",
       "</style>\n",
       "<table border=\"1\" class=\"dataframe\">\n",
       "  <thead>\n",
       "    <tr style=\"text-align: right;\">\n",
       "      <th></th>\n",
       "      <th>!</th>\n",
       "      <th>!!</th>\n",
       "      <th>!!!</th>\n",
       "      <th>!!!”</th>\n",
       "      <th>!!?</th>\n",
       "      <th>!?</th>\n",
       "      <th>!f</th>\n",
       "      <th>!”</th>\n",
       "      <th>!”)</th>\n",
       "      <th>\"</th>\n",
       "      <th>...</th>\n",
       "      <th>🇺🇸</th>\n",
       "      <th>🌍💚☮️</th>\n",
       "      <th>🎃</th>\n",
       "      <th>😀</th>\n",
       "      <th>😂</th>\n",
       "      <th>😉</th>\n",
       "      <th>😍</th>\n",
       "      <th>😭</th>\n",
       "      <th>😳</th>\n",
       "      <th>🙂</th>\n",
       "    </tr>\n",
       "  </thead>\n",
       "  <tbody>\n",
       "    <tr>\n",
       "      <th>0</th>\n",
       "      <td>0.0</td>\n",
       "      <td>0.0</td>\n",
       "      <td>0.0</td>\n",
       "      <td>0.0</td>\n",
       "      <td>0.0</td>\n",
       "      <td>0.0</td>\n",
       "      <td>0.0</td>\n",
       "      <td>0.0</td>\n",
       "      <td>0.0</td>\n",
       "      <td>0.0</td>\n",
       "      <td>...</td>\n",
       "      <td>0.0</td>\n",
       "      <td>0.0</td>\n",
       "      <td>0.0</td>\n",
       "      <td>0.0</td>\n",
       "      <td>0.0</td>\n",
       "      <td>0.0</td>\n",
       "      <td>0.0</td>\n",
       "      <td>0.0</td>\n",
       "      <td>0.0</td>\n",
       "      <td>0.0</td>\n",
       "    </tr>\n",
       "    <tr>\n",
       "      <th>1</th>\n",
       "      <td>0.0</td>\n",
       "      <td>0.0</td>\n",
       "      <td>0.0</td>\n",
       "      <td>0.0</td>\n",
       "      <td>0.0</td>\n",
       "      <td>0.0</td>\n",
       "      <td>0.0</td>\n",
       "      <td>0.0</td>\n",
       "      <td>0.0</td>\n",
       "      <td>0.0</td>\n",
       "      <td>...</td>\n",
       "      <td>0.0</td>\n",
       "      <td>0.0</td>\n",
       "      <td>0.0</td>\n",
       "      <td>0.0</td>\n",
       "      <td>0.0</td>\n",
       "      <td>0.0</td>\n",
       "      <td>0.0</td>\n",
       "      <td>0.0</td>\n",
       "      <td>0.0</td>\n",
       "      <td>0.0</td>\n",
       "    </tr>\n",
       "    <tr>\n",
       "      <th>2</th>\n",
       "      <td>0.0</td>\n",
       "      <td>0.0</td>\n",
       "      <td>0.0</td>\n",
       "      <td>0.0</td>\n",
       "      <td>0.0</td>\n",
       "      <td>0.0</td>\n",
       "      <td>0.0</td>\n",
       "      <td>0.0</td>\n",
       "      <td>0.0</td>\n",
       "      <td>0.0</td>\n",
       "      <td>...</td>\n",
       "      <td>0.0</td>\n",
       "      <td>0.0</td>\n",
       "      <td>0.0</td>\n",
       "      <td>0.0</td>\n",
       "      <td>0.0</td>\n",
       "      <td>0.0</td>\n",
       "      <td>0.0</td>\n",
       "      <td>0.0</td>\n",
       "      <td>0.0</td>\n",
       "      <td>0.0</td>\n",
       "    </tr>\n",
       "    <tr>\n",
       "      <th>3</th>\n",
       "      <td>0.0</td>\n",
       "      <td>0.0</td>\n",
       "      <td>0.0</td>\n",
       "      <td>0.0</td>\n",
       "      <td>0.0</td>\n",
       "      <td>0.0</td>\n",
       "      <td>0.0</td>\n",
       "      <td>0.0</td>\n",
       "      <td>0.0</td>\n",
       "      <td>0.0</td>\n",
       "      <td>...</td>\n",
       "      <td>0.0</td>\n",
       "      <td>0.0</td>\n",
       "      <td>0.0</td>\n",
       "      <td>0.0</td>\n",
       "      <td>0.0</td>\n",
       "      <td>0.0</td>\n",
       "      <td>0.0</td>\n",
       "      <td>0.0</td>\n",
       "      <td>0.0</td>\n",
       "      <td>0.0</td>\n",
       "    </tr>\n",
       "    <tr>\n",
       "      <th>4</th>\n",
       "      <td>0.0</td>\n",
       "      <td>0.0</td>\n",
       "      <td>0.0</td>\n",
       "      <td>0.0</td>\n",
       "      <td>0.0</td>\n",
       "      <td>0.0</td>\n",
       "      <td>0.0</td>\n",
       "      <td>0.0</td>\n",
       "      <td>0.0</td>\n",
       "      <td>0.0</td>\n",
       "      <td>...</td>\n",
       "      <td>0.0</td>\n",
       "      <td>0.0</td>\n",
       "      <td>0.0</td>\n",
       "      <td>0.0</td>\n",
       "      <td>0.0</td>\n",
       "      <td>0.0</td>\n",
       "      <td>0.0</td>\n",
       "      <td>0.0</td>\n",
       "      <td>0.0</td>\n",
       "      <td>0.0</td>\n",
       "    </tr>\n",
       "  </tbody>\n",
       "</table>\n",
       "<p>5 rows × 148367 columns</p>\n",
       "</div>"
      ],
      "text/plain": [
       "     !   !!  !!!  !!!”  !!?   !?   !f   !”  !”)    \" ...    🇺🇸  🌍💚☮️    🎃  \\\n",
       "0  0.0  0.0  0.0   0.0  0.0  0.0  0.0  0.0  0.0  0.0 ...   0.0   0.0  0.0   \n",
       "1  0.0  0.0  0.0   0.0  0.0  0.0  0.0  0.0  0.0  0.0 ...   0.0   0.0  0.0   \n",
       "2  0.0  0.0  0.0   0.0  0.0  0.0  0.0  0.0  0.0  0.0 ...   0.0   0.0  0.0   \n",
       "3  0.0  0.0  0.0   0.0  0.0  0.0  0.0  0.0  0.0  0.0 ...   0.0   0.0  0.0   \n",
       "4  0.0  0.0  0.0   0.0  0.0  0.0  0.0  0.0  0.0  0.0 ...   0.0   0.0  0.0   \n",
       "\n",
       "     😀    😂    😉    😍    😭    😳    🙂  \n",
       "0  0.0  0.0  0.0  0.0  0.0  0.0  0.0  \n",
       "1  0.0  0.0  0.0  0.0  0.0  0.0  0.0  \n",
       "2  0.0  0.0  0.0  0.0  0.0  0.0  0.0  \n",
       "3  0.0  0.0  0.0  0.0  0.0  0.0  0.0  \n",
       "4  0.0  0.0  0.0  0.0  0.0  0.0  0.0  \n",
       "\n",
       "[5 rows x 148367 columns]"
      ]
     },
     "execution_count": 54,
     "metadata": {},
     "output_type": "execute_result"
    }
   ],
   "source": [
    "tfidf_df = pd.DataFrame(tfidf_train_full.A, columns=tfidf_vectorizer.get_feature_names())\n",
    "tfidf_df.head()"
   ]
  },
  {
   "cell_type": "markdown",
   "metadata": {},
   "source": [
    "First we have to convert the label column into binary and then change it back after the model."
   ]
  },
  {
   "cell_type": "code",
   "execution_count": 55,
   "metadata": {},
   "outputs": [],
   "source": [
    "from sklearn.preprocessing import LabelEncoder\n",
    "\n",
    "le = LabelEncoder()\n",
    "binary_label = le.fit_transform(label)"
   ]
  },
  {
   "cell_type": "code",
   "execution_count": 64,
   "metadata": {},
   "outputs": [
    {
     "name": "stdout",
     "output_type": "stream",
     "text": [
      "Accuracy: 0.94223 (+/- 0.01) [Passive Aggressive]\n",
      "Accuracy: 0.94098 (+/- 0.01) [SVM]\n",
      "Accuracy: 0.94173 (+/- 0.01) [Ensemble]\n"
     ]
    },
    {
     "data": {
      "image/png": "[encoded data removed]",
      "text/plain": [
       "<matplotlib.figure.Figure at 0x1a23a93cc0>"
      ]
     },
     "metadata": {},
     "output_type": "display_data"
    }
   ],
   "source": [
    "from sklearn.ensemble import VotingClassifier\n",
    "from sklearn.model_selection import StratifiedKFold, cross_val_score, GridSearchCV\n",
    "import seaborn as sns\n",
    "\n",
    "\n",
    "# StratifiedKFold for cross-validation\n",
    "kfold = StratifiedKFold(n_splits=3, random_state=69, shuffle=True)\n",
    "\n",
    "# implement the VotingClassifier\n",
    "VC = VotingClassifier(estimators=[('pa', m7), ('svm', m8)], voting='hard')\n",
    "\n",
    "# create a df to plot the scores\n",
    "VC_df = pd.DataFrame(index=range(3 * 3))\n",
    "\n",
    "preds = []\n",
    "for clf, lab in zip([m7, m8, VC], ['Passive Aggressive', 'SVM', 'Ensemble']):\n",
    "    model_name = lab\n",
    "    scores = cross_val_score(clf, tfidf_train_full, binary_label, cv=kfold, scoring='accuracy') \n",
    "    print(\"Accuracy: %0.5f (+/- %0.2f) [%s]\" % (scores.mean(), scores.std(), lab))\n",
    "    for fold, accuracy in enumerate(scores):\n",
    "        preds.append((lab, fold, accuracy))\n",
    "\n",
    "VC_df = pd.DataFrame(preds, columns=['model_name', 'fold', 'accuracy'])\n",
    "\n",
    "# plot the results\n",
    "sns.boxplot(x='model_name', y='accuracy', data=VC_df)\n",
    "sns.stripplot(x='model_name', y='accuracy', data=VC_df, \n",
    "              size=10, jitter=True, edgecolor=\"gray\", linewidth=1)\n",
    "plt.xticks(rotation=30)\n",
    "plt.show()"
   ]
  },
  {
   "cell_type": "markdown",
   "metadata": {},
   "source": [
    "The VotingClassifier gave us a worse ensemble score than model 7, which gave us a 94.2% accuracy. So we will go with model 7 for the prediction."
   ]
  },
  {
   "cell_type": "code",
   "execution_count": 65,
   "metadata": {},
   "outputs": [],
   "source": [
    "prediction = m7.fit(tfidf_train_full, label).predict(tfidf_test_full)\n",
    "\n",
    "test_id = test.index\n",
    "submission = pd.DataFrame(test_id, columns=['ID'])\n",
    "submission['label'] = prediction\n",
    "submission.to_csv('fake_news_submission.csv', index = False)"
   ]
  },
  {
   "cell_type": "markdown",
   "metadata": {},
   "source": [
    "Here we can look at which tokens were most linked towards real and which more towards fake."
   ]
  },
  {
   "cell_type": "code",
   "execution_count": 66,
   "metadata": {},
   "outputs": [],
   "source": [
    "features = tfidf_vectorizer.get_feature_names()"
   ]
  },
  {
   "cell_type": "code",
   "execution_count": 67,
   "metadata": {},
   "outputs": [
    {
     "data": {
      "text/plain": [
       "[(4.354195827936375, '--'),\n",
       " (2.4460794681999145, 'said.'),\n",
       " (2.4103753831345514, 'said'),\n",
       " (2.371077871574678, 'debate'),\n",
       " (2.1647455682960017, 'islamic'),\n",
       " (2.0757797612146422, '—'),\n",
       " (2.066385332013124, 'gop'),\n",
       " (2.054789960700819, \"it's\"),\n",
       " (2.0017796978748406, 'cruz'),\n",
       " (1.989950689607499, '\"i')]"
      ]
     },
     "execution_count": 67,
     "metadata": {},
     "output_type": "execute_result"
    }
   ],
   "source": [
    "### Most real words\n",
    "sorted(zip(m7.coef_[0], features), reverse=True)[:10]"
   ]
  },
  {
   "cell_type": "code",
   "execution_count": 68,
   "metadata": {},
   "outputs": [
    {
     "data": {
      "text/plain": [
       "[(-5.888217630979381, ','),\n",
       " (-4.120635083486181, 'october'),\n",
       " (-3.803784950763806, '.'),\n",
       " (-3.643321352940371, '2016'),\n",
       " (-3.5641535157836928, '0'),\n",
       " (-2.943257963604798, '“'),\n",
       " (-2.84251643222225, 'hillary'),\n",
       " (-2.692189692183083, ':'),\n",
       " (-2.489036624582063, 'november'),\n",
       " (-2.047523784015778, 'article')]"
      ]
     },
     "execution_count": 68,
     "metadata": {},
     "output_type": "execute_result"
    }
   ],
   "source": [
    "### Most fake words\n",
    "sorted(zip(m7.coef_[0], features))[:10]"
   ]
  }
 ],
 "metadata": {
  "kernelspec": {
   "display_name": "Python 3",
   "language": "python",
   "name": "python3"
  },
  "language_info": {
   "codemirror_mode": {
    "name": "ipython",
    "version": 3
   },
   "file_extension": ".py",
   "mimetype": "text/x-python",
   "name": "python",
   "nbconvert_exporter": "python",
   "pygments_lexer": "ipython3",
   "version": "3.6.4"
  }
 },
 "nbformat": 4,
 "nbformat_minor": 2
}
